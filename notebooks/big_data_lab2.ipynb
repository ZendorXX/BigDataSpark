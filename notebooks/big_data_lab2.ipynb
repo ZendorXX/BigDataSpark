{
 "cells": [
  {
   "cell_type": "code",
   "execution_count": 1,
   "id": "53e9ce6d",
   "metadata": {
    "vscode": {
     "languageId": "plaintext"
    }
   },
   "outputs": [],
   "source": [
    "from pyspark.sql import SparkSession\n",
    "\n",
    "spark = SparkSession.builder \\\n",
    "    .appName(\"BigDataLab2\") \\\n",
    "    .config(\"spark.jars\", \n",
    "            \"/opt/spark/jars/postgresql-42.7.6.jar,\"\n",
    "            \"/opt/spark/jars/clickhouse-jdbc-0.6.0-all.jar\") \\\n",
    "    .getOrCreate()"
   ]
  },
  {
   "cell_type": "code",
   "execution_count": 2,
   "id": "6581fd3e-08ba-4a65-a87e-bfd83e7d68cc",
   "metadata": {},
   "outputs": [],
   "source": [
    "# Конфигурация PostgreSQL\n",
    "pg_url = \"jdbc:postgresql://postgres:5432/database\"\n",
    "pg_properties = {\n",
    "    \"user\": \"postgres\",\n",
    "    \"password\": \"password\",\n",
    "    \"driver\": \"org.postgresql.Driver\"\n",
    "}\n",
    "\n",
    "# Чтение исходных данных\n",
    "mock_data = spark.read.jdbc(\n",
    "    url=pg_url,\n",
    "    table=\"mock_data\",\n",
    "    properties=pg_properties\n",
    ")"
   ]
  },
  {
   "cell_type": "code",
   "execution_count": 3,
   "id": "d52734b2-a6ca-4ef1-8afc-013739c1eef2",
   "metadata": {},
   "outputs": [
    {
     "name": "stdout",
     "output_type": "stream",
     "text": [
      "+-------------------+------------------+------------+--------------------+----------------+--------------------+-----------------+-----------------+------------------+-----------------+----------------+--------------------+--------------+------------------+------------+----------------+--------------------+----------------+----------+----------------+--------------+---------------+-------------+--------------------+----------+--------------+----------+-----------+-------------+------------+--------------------+------------+--------------------+-------------+------------+-------------+----------------+--------------------+--------------------+---------------+--------------------+-------------------+-------------+----------------+--------------------+--------------+----------------+------------------+----------------+---+\n",
      "|customer_first_name|customer_last_name|customer_age|      customer_email|customer_country|customer_postal_code|customer_pet_type|customer_pet_name|customer_pet_breed|seller_first_name|seller_last_name|        seller_email|seller_country|seller_postal_code|product_name|product_category|       product_price|product_quantity| sale_date|sale_customer_id|sale_seller_id|sale_product_id|sale_quantity|    sale_total_price|store_name|store_location|store_city|store_state|store_country| store_phone|         store_email|pet_category|      product_weight|product_color|product_size|product_brand|product_material| product_description|      product_rating|product_reviews|product_release_date|product_expiry_date|supplier_name|supplier_contact|      supplier_email|supplier_phone|supplier_address|     supplier_city|supplier_country| id|\n",
      "+-------------------+------------------+------------+--------------------+----------------+--------------------+-----------------+-----------------+------------------+-----------------+----------------+--------------------+--------------+------------------+------------+----------------+--------------------+----------------+----------+----------------+--------------+---------------+-------------+--------------------+----------+--------------+----------+-----------+-------------+------------+--------------------+------------+--------------------+-------------+------------+-------------+----------------+--------------------+--------------------+---------------+--------------------+-------------------+-------------+----------------+--------------------+--------------+----------------+------------------+----------------+---+\n",
      "|             Barron|           Rawlyns|          61|bmassingham0@army...|           China|                NULL|              cat|        Priscella|Labrador Retriever|            Bevan|      Massingham|bmassingham0@answ...|     Indonesia|              NULL|    Dog Food|            Food|77.97000000000000...|              89|2021-05-14|               1|             1|              1|            4|487.7000000000000...|   Youopia|      Suite 75|   Xichehe|       NULL|United States|564-244-8660|bmassingham0@netw...|        Cats|13.40000000000000...|       Indigo|      Medium|        Skajo|           Steel|Aliquam quis turp...|2.100000000000000000|             97|          2011-10-19|         2028-10-21|       Tagcat|Bevan Massingham|bmassingham0@unbl...|  914-877-7062|        Suite 25|            Kletek|           China|  1|\n",
      "|                Ham|          Knowller|          78|  cscudder1@time.com|          Poland|              73-115|             bird|          Dalenna|Labrador Retriever|          Candide|         Scudder|  cscudder1@xing.com|     Guatemala|             04015|     Cat Toy|            Food|48.70000000000000...|              73|2021-11-13|               2|             2|              2|           10|484.6100000000000...|  Fivespan|       Suite 1|    Dolice|       NULL|    Lithuania|596-788-0321|cscudder1@behance...|        Cats|36.30000000000000...|        Khaki|       Small|    Wordpedia|      Plexiglass|Phasellus in feli...|2.400000000000000000|             37|          2019-04-17|         2028-02-29|     Livetube| Candide Scudder|cscudder1@sbwire.com|  863-319-5653|      18th Floor|Santa Cruz Balanyá|          Poland|  2|\n",
      "|           Farleigh|           Langley|          71|  vhuxter2@fotki.com|          Poland|              56-160|             bird|         Aldridge|          Parakeet|           Vinson|          Huxter|  vhuxter2@issuu.com|         China|              NULL|   Bird Cage|            Food|77.75000000000000...|              39|2021-12-04|               3|             3|              3|            9|144.2400000000000...|    Avamba|      Suite 69|    Wińsko|       NULL| South Africa|148-671-4697|vhuxter2@marketwa...|        Fish|14.60000000000000...|        Khaki|      Medium|    Riffpedia|      Plexiglass|Maecenas leo odio...|3.000000000000000000|            218|          2010-02-03|         2023-09-03|     Photobug|   Vinson Huxter|  vhuxter2@slate.com|  434-817-1275|          Apt 96|           Huangpu|           Samoa|  3|\n",
      "|               Shae|           Debling|          28|bbullier3@bravesi...|       Sri Lanka|               81700|              cat|          Beverie|Labrador Retriever|             Bald|         Bullier|bbullier3@imagesh...|         China|              NULL|    Dog Food|            Food|54.18000000000000...|              68|2021-08-10|               4|             4|              4|            4|441.0900000000000...|  Feedfish|      Suite 77|  Weligama|       NULL|         Cuba|190-352-7524|bbullier3@infosee...|        Fish|15.70000000000000...|       Indigo|      Medium|    Flipstorm|         Granite|Nullam sit amet t...|2.200000000000000000|            959|          2019-08-22|         2026-03-29|        Janyx|    Bald Bullier|   bbullier3@dot.gov|  515-756-7392|      12th Floor|        Chengzhong|       Indonesia|  4|\n",
      "|                Lay|             Twatt|          25| sedgar4@smugmug.com|        Botswana|                NULL|             bird|          Sydelle|           Siamese|          Sydelle|           Edgar|   sedgar4@sogou.com|         China|              NULL|   Bird Cage|            Cage|72.96000000000000...|              23|2021-02-04|               5|             5|              5|            6|72.27000000000000...|    Skimia|       Apt 112| Mahalapye|       NULL|  Philippines|364-385-6169|sedgar4@e-recht24.de|    Reptiles|38.90000000000000...|       Maroon|       Large|        Zazio|        Aluminum|Quisque id justo ...|4.500000000000000000|            130|          2018-12-09|         2030-05-10|         Lazz|   Sydelle Edgar|sedgar4@reverbnat...|  861-980-8811|        Suite 79|             Lanxi|           China|  5|\n",
      "+-------------------+------------------+------------+--------------------+----------------+--------------------+-----------------+-----------------+------------------+-----------------+----------------+--------------------+--------------+------------------+------------+----------------+--------------------+----------------+----------+----------------+--------------+---------------+-------------+--------------------+----------+--------------+----------+-----------+-------------+------------+--------------------+------------+--------------------+-------------+------------+-------------+----------------+--------------------+--------------------+---------------+--------------------+-------------------+-------------+----------------+--------------------+--------------+----------------+------------------+----------------+---+\n",
      "only showing top 5 rows\n",
      "\n"
     ]
    }
   ],
   "source": [
    "mock_data.show(5)"
   ]
  },
  {
   "cell_type": "code",
   "execution_count": 4,
   "id": "b962a7aa-c1b8-4264-b061-48ef89e005eb",
   "metadata": {},
   "outputs": [
    {
     "name": "stdout",
     "output_type": "stream",
     "text": [
      "10000\n"
     ]
    }
   ],
   "source": [
    "print(mock_data.count())"
   ]
  },
  {
   "cell_type": "code",
   "execution_count": null,
   "id": "cf62d4d8-6bf6-4f7d-a146-3de91cb3f6fa",
   "metadata": {},
   "outputs": [],
   "source": []
  }
 ],
 "metadata": {
  "kernelspec": {
   "display_name": "Python 3 (ipykernel)",
   "language": "python",
   "name": "python3"
  },
  "language_info": {
   "codemirror_mode": {
    "name": "ipython",
    "version": 3
   },
   "file_extension": ".py",
   "mimetype": "text/x-python",
   "name": "python",
   "nbconvert_exporter": "python",
   "pygments_lexer": "ipython3",
   "version": "3.11.6"
  }
 },
 "nbformat": 4,
 "nbformat_minor": 5
}
