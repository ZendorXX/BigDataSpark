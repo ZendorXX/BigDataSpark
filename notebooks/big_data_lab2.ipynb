{
 "cells": [
  {
   "cell_type": "markdown",
   "id": "1e8d5398-3c9f-4663-927d-ac8f53f325f9",
   "metadata": {},
   "source": [
    "# Анализ больших данных - лабораторная работа №2 - ETL реализованный с помощью Spark"
   ]
  },
  {
   "cell_type": "markdown",
   "id": "e75ddb06-6062-46d8-8ece-ed738a60c7e1",
   "metadata": {},
   "source": [
    "## Работа с Spark для преобразования данных в снежинку"
   ]
  },
  {
   "cell_type": "code",
   "execution_count": 1,
   "id": "5c6bc393-6d43-414d-8c9c-464deef789a2",
   "metadata": {},
   "outputs": [],
   "source": [
    "from pyspark.sql import SparkSession\n",
    "from pyspark.sql import functions as F\n",
    "from pyspark.sql.functions import col"
   ]
  },
  {
   "cell_type": "code",
   "execution_count": 2,
   "id": "53e9ce6d",
   "metadata": {},
   "outputs": [],
   "source": [
    "spark = SparkSession.builder \\\n",
    "    .appName(\"BigDataLab2\") \\\n",
    "    .config(\"spark.jars\", \n",
    "            \"/opt/spark/jars/postgresql-42.7.6.jar,\"\n",
    "            \"/opt/spark/jars/clickhouse-jdbc-0.8.5-all.jar\") \\\n",
    "    .getOrCreate()"
   ]
  },
  {
   "cell_type": "code",
   "execution_count": 3,
   "id": "ab2436b8-af77-47d9-98cc-10fcc9229b6b",
   "metadata": {},
   "outputs": [],
   "source": [
    "pg_url = \"jdbc:postgresql://postgres:5432/database\"\n",
    "pg_properties = {\n",
    "    \"user\": \"postgres\",\n",
    "    \"password\": \"password\",\n",
    "    \"driver\": \"org.postgresql.Driver\"\n",
    "}"
   ]
  },
  {
   "cell_type": "markdown",
   "id": "f2bfe1c5-7ad0-448e-8ad4-0a8b64d3fbc6",
   "metadata": {},
   "source": [
    "Функции для чтения из БД и записи в БД таблиц"
   ]
  },
  {
   "cell_type": "code",
   "execution_count": 4,
   "id": "ca9eac14-8f71-4c9a-b595-fead8538e9a9",
   "metadata": {},
   "outputs": [],
   "source": [
    "def read_table(table_name):\n",
    "    return spark.read.jdbc(url=pg_url, table=table_name, properties=pg_properties)"
   ]
  },
  {
   "cell_type": "code",
   "execution_count": 5,
   "id": "562e8361-3b95-49fb-b566-c9dd9632cd2e",
   "metadata": {},
   "outputs": [],
   "source": [
    "def write_table(df, table_name):\n",
    "    df.write \\\n",
    "        .format(\"jdbc\") \\\n",
    "        .option(\"url\", pg_url) \\\n",
    "        .option(\"dbtable\", table_name) \\\n",
    "        .option(\"user\", pg_properties[\"user\"]) \\\n",
    "        .option(\"password\", pg_properties[\"password\"]) \\\n",
    "        .option(\"driver\", \"org.postgresql.Driver\") \\\n",
    "        .mode(\"append\") \\\n",
    "        .save()"
   ]
  },
  {
   "cell_type": "code",
   "execution_count": 6,
   "id": "6581fd3e-08ba-4a65-a87e-bfd83e7d68cc",
   "metadata": {},
   "outputs": [],
   "source": [
    "mock_data = read_table(\"mock_data\")"
   ]
  },
  {
   "cell_type": "code",
   "execution_count": 7,
   "id": "d52734b2-a6ca-4ef1-8afc-013739c1eef2",
   "metadata": {},
   "outputs": [
    {
     "name": "stdout",
     "output_type": "stream",
     "text": [
      "+-------------------+------------------+------------+--------------------+----------------+--------------------+-----------------+-----------------+------------------+-----------------+----------------+--------------------+--------------+------------------+------------+----------------+--------------------+----------------+----------+----------------+--------------+---------------+-------------+--------------------+----------+--------------+----------+-----------+-------------+------------+--------------------+------------+--------------------+-------------+------------+-------------+----------------+--------------------+--------------------+---------------+--------------------+-------------------+-------------+----------------+--------------------+--------------+----------------+------------------+----------------+---+\n",
      "|customer_first_name|customer_last_name|customer_age|      customer_email|customer_country|customer_postal_code|customer_pet_type|customer_pet_name|customer_pet_breed|seller_first_name|seller_last_name|        seller_email|seller_country|seller_postal_code|product_name|product_category|       product_price|product_quantity| sale_date|sale_customer_id|sale_seller_id|sale_product_id|sale_quantity|    sale_total_price|store_name|store_location|store_city|store_state|store_country| store_phone|         store_email|pet_category|      product_weight|product_color|product_size|product_brand|product_material| product_description|      product_rating|product_reviews|product_release_date|product_expiry_date|supplier_name|supplier_contact|      supplier_email|supplier_phone|supplier_address|     supplier_city|supplier_country| id|\n",
      "+-------------------+------------------+------------+--------------------+----------------+--------------------+-----------------+-----------------+------------------+-----------------+----------------+--------------------+--------------+------------------+------------+----------------+--------------------+----------------+----------+----------------+--------------+---------------+-------------+--------------------+----------+--------------+----------+-----------+-------------+------------+--------------------+------------+--------------------+-------------+------------+-------------+----------------+--------------------+--------------------+---------------+--------------------+-------------------+-------------+----------------+--------------------+--------------+----------------+------------------+----------------+---+\n",
      "|             Barron|           Rawlyns|          61|bmassingham0@army...|           China|                NULL|              cat|        Priscella|Labrador Retriever|            Bevan|      Massingham|bmassingham0@answ...|     Indonesia|              NULL|    Dog Food|            Food|77.97000000000000...|              89|2021-05-14|               1|             1|              1|            4|487.7000000000000...|   Youopia|      Suite 75|   Xichehe|       NULL|United States|564-244-8660|bmassingham0@netw...|        Cats|13.40000000000000...|       Indigo|      Medium|        Skajo|           Steel|Aliquam quis turp...|2.100000000000000000|             97|          2011-10-19|         2028-10-21|       Tagcat|Bevan Massingham|bmassingham0@unbl...|  914-877-7062|        Suite 25|            Kletek|           China|  1|\n",
      "|                Ham|          Knowller|          78|  cscudder1@time.com|          Poland|              73-115|             bird|          Dalenna|Labrador Retriever|          Candide|         Scudder|  cscudder1@xing.com|     Guatemala|             04015|     Cat Toy|            Food|48.70000000000000...|              73|2021-11-13|               2|             2|              2|           10|484.6100000000000...|  Fivespan|       Suite 1|    Dolice|       NULL|    Lithuania|596-788-0321|cscudder1@behance...|        Cats|36.30000000000000...|        Khaki|       Small|    Wordpedia|      Plexiglass|Phasellus in feli...|2.400000000000000000|             37|          2019-04-17|         2028-02-29|     Livetube| Candide Scudder|cscudder1@sbwire.com|  863-319-5653|      18th Floor|Santa Cruz Balanyá|          Poland|  2|\n",
      "|           Farleigh|           Langley|          71|  vhuxter2@fotki.com|          Poland|              56-160|             bird|         Aldridge|          Parakeet|           Vinson|          Huxter|  vhuxter2@issuu.com|         China|              NULL|   Bird Cage|            Food|77.75000000000000...|              39|2021-12-04|               3|             3|              3|            9|144.2400000000000...|    Avamba|      Suite 69|    Wińsko|       NULL| South Africa|148-671-4697|vhuxter2@marketwa...|        Fish|14.60000000000000...|        Khaki|      Medium|    Riffpedia|      Plexiglass|Maecenas leo odio...|3.000000000000000000|            218|          2010-02-03|         2023-09-03|     Photobug|   Vinson Huxter|  vhuxter2@slate.com|  434-817-1275|          Apt 96|           Huangpu|           Samoa|  3|\n",
      "|               Shae|           Debling|          28|bbullier3@bravesi...|       Sri Lanka|               81700|              cat|          Beverie|Labrador Retriever|             Bald|         Bullier|bbullier3@imagesh...|         China|              NULL|    Dog Food|            Food|54.18000000000000...|              68|2021-08-10|               4|             4|              4|            4|441.0900000000000...|  Feedfish|      Suite 77|  Weligama|       NULL|         Cuba|190-352-7524|bbullier3@infosee...|        Fish|15.70000000000000...|       Indigo|      Medium|    Flipstorm|         Granite|Nullam sit amet t...|2.200000000000000000|            959|          2019-08-22|         2026-03-29|        Janyx|    Bald Bullier|   bbullier3@dot.gov|  515-756-7392|      12th Floor|        Chengzhong|       Indonesia|  4|\n",
      "|                Lay|             Twatt|          25| sedgar4@smugmug.com|        Botswana|                NULL|             bird|          Sydelle|           Siamese|          Sydelle|           Edgar|   sedgar4@sogou.com|         China|              NULL|   Bird Cage|            Cage|72.96000000000000...|              23|2021-02-04|               5|             5|              5|            6|72.27000000000000...|    Skimia|       Apt 112| Mahalapye|       NULL|  Philippines|364-385-6169|sedgar4@e-recht24.de|    Reptiles|38.90000000000000...|       Maroon|       Large|        Zazio|        Aluminum|Quisque id justo ...|4.500000000000000000|            130|          2018-12-09|         2030-05-10|         Lazz|   Sydelle Edgar|sedgar4@reverbnat...|  861-980-8811|        Suite 79|             Lanxi|           China|  5|\n",
      "+-------------------+------------------+------------+--------------------+----------------+--------------------+-----------------+-----------------+------------------+-----------------+----------------+--------------------+--------------+------------------+------------+----------------+--------------------+----------------+----------+----------------+--------------+---------------+-------------+--------------------+----------+--------------+----------+-----------+-------------+------------+--------------------+------------+--------------------+-------------+------------+-------------+----------------+--------------------+--------------------+---------------+--------------------+-------------------+-------------+----------------+--------------------+--------------+----------------+------------------+----------------+---+\n",
      "only showing top 5 rows\n",
      "\n"
     ]
    },
    {
     "data": {
      "text/plain": [
       "10000"
      ]
     },
     "execution_count": 7,
     "metadata": {},
     "output_type": "execute_result"
    }
   ],
   "source": [
    "mock_data.show(5)\n",
    "mock_data.count()"
   ]
  },
  {
   "cell_type": "code",
   "execution_count": 8,
   "id": "6d852588-de88-4f48-8e16-4331f3c39f52",
   "metadata": {},
   "outputs": [],
   "source": [
    "ddl_queries = [\n",
    "    \"CREATE TABLE dim_country (country_id SERIAL PRIMARY KEY, country_name VARCHAR(100));\",\n",
    "    \"CREATE TABLE dim_city (city_id SERIAL PRIMARY KEY, city_name VARCHAR(100));\",\n",
    "    \"CREATE TABLE dim_pet_type (pet_type_id SERIAL PRIMARY KEY, pet_type_name VARCHAR(100));\",\n",
    "    \"CREATE TABLE dim_pet_breed (pet_breed_id SERIAL PRIMARY KEY, pet_breed_name VARCHAR(100));\",\n",
    "    \"CREATE TABLE dim_pet_category (pet_category_id SERIAL PRIMARY KEY, pet_category_name VARCHAR(100));\",\n",
    "    \"CREATE TABLE dim_pet (pet_id SERIAL PRIMARY KEY, name VARCHAR(50), pet_type_id INT REFERENCES dim_pet_type(pet_type_id), pet_breed_id INT REFERENCES dim_pet_breed(pet_breed_id), pet_category_id INT REFERENCES dim_pet_category(pet_category_id));\",\n",
    "    \"CREATE TABLE dim_customer (customer_id SERIAL PRIMARY KEY, first_name VARCHAR(100), last_name VARCHAR(100), age INT, email VARCHAR(255) UNIQUE, country_id INT REFERENCES dim_country(country_id), postal_code VARCHAR(20), pet_id INT REFERENCES dim_pet(pet_id));\",\n",
    "    \"CREATE TABLE dim_seller (seller_id SERIAL PRIMARY KEY, first_name VARCHAR(100), last_name VARCHAR(100), email VARCHAR(255) UNIQUE, country_id INT REFERENCES dim_country(country_id), postal_code VARCHAR(20));\",\n",
    "    \"CREATE TABLE dim_supplier (supplier_id SERIAL PRIMARY KEY, name VARCHAR(200), contact VARCHAR(200), email VARCHAR(255) UNIQUE, phone VARCHAR(50), address TEXT, city_id INT REFERENCES dim_city(city_id), country_id INT REFERENCES dim_country(country_id));\",\n",
    "    \"CREATE TABLE dim_store (store_id SERIAL PRIMARY KEY, name VARCHAR(200), location VARCHAR(200), city_id INT REFERENCES dim_city(city_id), state VARCHAR(100), country_id INT REFERENCES dim_country(country_id), phone VARCHAR(50), email VARCHAR(255));\",\n",
    "    \"CREATE TABLE dim_product_name (product_name_id SERIAL PRIMARY KEY, product_name VARCHAR(50) UNIQUE);\",\n",
    "    \"CREATE TABLE dim_product_category (category_id SERIAL PRIMARY KEY, category_name VARCHAR(100) UNIQUE);\",\n",
    "    \"CREATE TABLE dim_brand (brand_id SERIAL PRIMARY KEY, brand_name VARCHAR(100) UNIQUE);\",\n",
    "    \"CREATE TABLE dim_material (material_id SERIAL PRIMARY KEY, material_name VARCHAR(100) UNIQUE);\",\n",
    "    \"CREATE TABLE dim_color (color_id SERIAL PRIMARY KEY, color_name VARCHAR(50) UNIQUE);\",\n",
    "    \"CREATE TABLE dim_size (size_id SERIAL PRIMARY KEY, size_name VARCHAR(50) UNIQUE);\",\n",
    "    \"CREATE TABLE dim_product (product_id SERIAL PRIMARY KEY, product_name_id INT REFERENCES dim_product_name(product_name_id), category_id INT REFERENCES dim_product_category(category_id), price NUMERIC(12,2), quantity INT, weight NUMERIC(12,2), color_id INT REFERENCES dim_color(color_id), size_id INT REFERENCES dim_size(size_id), brand_id INT REFERENCES dim_brand(brand_id), material_id INT REFERENCES dim_material(material_id), description TEXT, rating NUMERIC(3,2), reviews INT, release_date DATE, expiry_date DATE, supplier_id INT REFERENCES dim_supplier(supplier_id));\",\n",
    "    \"CREATE TABLE fact_sales (sale_id SERIAL PRIMARY KEY, sale_date DATE, customer_id INT REFERENCES dim_customer(customer_id), seller_id INT REFERENCES dim_seller(seller_id), store_id INT REFERENCES dim_store(store_id), product_id INT REFERENCES dim_product(product_id), sale_quantity INT, sale_total_price NUMERIC(14,2));\"\n",
    "]\n",
    "\n",
    "for query in ddl_queries:\n",
    "    spark.sparkContext._jvm.java.sql.DriverManager.getConnection(\n",
    "        pg_url, pg_properties[\"user\"], pg_properties[\"password\"]\n",
    "    ).createStatement().execute(query)"
   ]
  },
  {
   "cell_type": "markdown",
   "id": "96281bc1",
   "metadata": {},
   "source": [
    "Таблица dim_country"
   ]
  },
  {
   "cell_type": "code",
   "execution_count": 9,
   "id": "cf62d4d8-6bf6-4f7d-a146-3de91cb3f6fa",
   "metadata": {},
   "outputs": [],
   "source": [
    "dim_country = mock_data.select(col(\"customer_country\").alias(\"country_name\")) \\\n",
    "    .union(\n",
    "        mock_data.select(col(\"seller_country\").alias(\"country_name\"))\n",
    "    ) \\\n",
    "    .union(\n",
    "        mock_data.select(col(\"store_country\").alias(\"country_name\"))\n",
    "    ) \\\n",
    "    .union(\n",
    "        mock_data.select(col(\"supplier_country\").alias(\"country_name\"))\n",
    "    ) \\\n",
    "    .distinct()\n",
    "\n"
   ]
  },
  {
   "cell_type": "code",
   "execution_count": 10,
   "id": "e288d4f7-5935-4687-88b8-a1395ee00d23",
   "metadata": {},
   "outputs": [
    {
     "name": "stdout",
     "output_type": "stream",
     "text": [
      "+--------------------+\n",
      "|        country_name|\n",
      "+--------------------+\n",
      "|                Chad|\n",
      "|              Russia|\n",
      "|            Paraguay|\n",
      "|               Yemen|\n",
      "| U.S. Virgin Islands|\n",
      "|             Senegal|\n",
      "|              Sweden|\n",
      "|Svalbard and Jan ...|\n",
      "|              Guyana|\n",
      "|         Philippines|\n",
      "|             Eritrea|\n",
      "|            Djibouti|\n",
      "|            Malaysia|\n",
      "|              Turkey|\n",
      "|              Malawi|\n",
      "|                Iraq|\n",
      "|             Germany|\n",
      "|Northern Mariana ...|\n",
      "|             Comoros|\n",
      "|         Afghanistan|\n",
      "+--------------------+\n",
      "only showing top 20 rows\n",
      "\n"
     ]
    },
    {
     "data": {
      "text/plain": [
       "230"
      ]
     },
     "execution_count": 10,
     "metadata": {},
     "output_type": "execute_result"
    }
   ],
   "source": [
    "dim_country.show()\n",
    "dim_country.count()"
   ]
  },
  {
   "cell_type": "code",
   "execution_count": 11,
   "id": "1c353f67-daf0-471d-a838-9df849fd3638",
   "metadata": {},
   "outputs": [],
   "source": [
    "write_table(dim_country, \"dim_country\")"
   ]
  },
  {
   "cell_type": "markdown",
   "id": "88ad806f-5383-4730-888c-137949e7c60c",
   "metadata": {},
   "source": [
    "Таблица dim_city"
   ]
  },
  {
   "cell_type": "code",
   "execution_count": 12,
   "id": "b31affde-fa89-4b52-bdd8-26114e0290f6",
   "metadata": {},
   "outputs": [],
   "source": [
    "dim_city = mock_data.select(col(\"store_city\").alias(\"city_name\")) \\\n",
    "    .union(\n",
    "        mock_data.select(col(\"supplier_city\").alias(\"city_name\"))\n",
    "    ) \\\n",
    "    .distinct()"
   ]
  },
  {
   "cell_type": "code",
   "execution_count": 13,
   "id": "adf59dd2-38c8-46d6-8123-7d863aad59c8",
   "metadata": {},
   "outputs": [
    {
     "name": "stdout",
     "output_type": "stream",
     "text": [
      "+-----------+\n",
      "|  city_name|\n",
      "+-----------+\n",
      "|     Takefu|\n",
      "|Trollhättan|\n",
      "|   Żyrardów|\n",
      "|   Jaboatão|\n",
      "|    Nanshan|\n",
      "|Jiujianfang|\n",
      "|      Tocok|\n",
      "|  Sułkowice|\n",
      "|   Borūjerd|\n",
      "|      Pakel|\n",
      "|      Tyler|\n",
      "|      Trzin|\n",
      "|    Palermo|\n",
      "| Curpahuasi|\n",
      "|     Raheny|\n",
      "|      Apodi|\n",
      "|       Īlām|\n",
      "|   Tokarnia|\n",
      "|    Odawara|\n",
      "|      Bicaj|\n",
      "+-----------+\n",
      "only showing top 20 rows\n",
      "\n"
     ]
    },
    {
     "data": {
      "text/plain": [
       "14181"
      ]
     },
     "execution_count": 13,
     "metadata": {},
     "output_type": "execute_result"
    }
   ],
   "source": [
    "dim_city.show()\n",
    "dim_city.count()"
   ]
  },
  {
   "cell_type": "code",
   "execution_count": 14,
   "id": "617145ba-72a5-4add-9324-973e084484ea",
   "metadata": {},
   "outputs": [],
   "source": [
    "write_table(dim_city, \"dim_city\")"
   ]
  },
  {
   "cell_type": "markdown",
   "id": "6e618186-2103-4a57-8cda-b0681d0b72fa",
   "metadata": {},
   "source": [
    "Таблица dim_pet_type"
   ]
  },
  {
   "cell_type": "code",
   "execution_count": 15,
   "id": "c04c18b9-6214-44f8-8676-55c5a50c3cf1",
   "metadata": {},
   "outputs": [],
   "source": [
    "dim_pet_type = mock_data \\\n",
    "    .select(\n",
    "        col(\"customer_pet_type\").alias(\"pet_type_name\")\n",
    "    ) \\\n",
    "    .distinct()"
   ]
  },
  {
   "cell_type": "code",
   "execution_count": 16,
   "id": "9f7072b6-216f-4ea0-9639-ba6cfa8009dc",
   "metadata": {},
   "outputs": [
    {
     "name": "stdout",
     "output_type": "stream",
     "text": [
      "+-------------+\n",
      "|pet_type_name|\n",
      "+-------------+\n",
      "|          dog|\n",
      "|          cat|\n",
      "|         bird|\n",
      "+-------------+\n",
      "\n"
     ]
    },
    {
     "data": {
      "text/plain": [
       "3"
      ]
     },
     "execution_count": 16,
     "metadata": {},
     "output_type": "execute_result"
    }
   ],
   "source": [
    "dim_pet_type.show()\n",
    "dim_pet_type.count()"
   ]
  },
  {
   "cell_type": "code",
   "execution_count": 17,
   "id": "69af80fa-a7b2-4f76-9b63-dba429e8ebf0",
   "metadata": {},
   "outputs": [],
   "source": [
    "write_table(dim_pet_type, \"dim_pet_type\")"
   ]
  },
  {
   "cell_type": "markdown",
   "id": "f7d781c8-cc7e-4bf4-845b-4ed122517268",
   "metadata": {},
   "source": [
    "Таблица dim_pet_breed"
   ]
  },
  {
   "cell_type": "code",
   "execution_count": 18,
   "id": "d7a21ac5",
   "metadata": {},
   "outputs": [],
   "source": [
    "dim_pet_breed = mock_data \\\n",
    "    .select(\n",
    "        col(\"customer_pet_breed\").alias(\"pet_breed_name\")\n",
    "    ) \\\n",
    "    .distinct()"
   ]
  },
  {
   "cell_type": "code",
   "execution_count": 19,
   "id": "28ed1093",
   "metadata": {},
   "outputs": [
    {
     "name": "stdout",
     "output_type": "stream",
     "text": [
      "+------------------+\n",
      "|    pet_breed_name|\n",
      "+------------------+\n",
      "|Labrador Retriever|\n",
      "|          Parakeet|\n",
      "|           Siamese|\n",
      "+------------------+\n",
      "\n"
     ]
    },
    {
     "data": {
      "text/plain": [
       "3"
      ]
     },
     "execution_count": 19,
     "metadata": {},
     "output_type": "execute_result"
    }
   ],
   "source": [
    "dim_pet_breed.show()\n",
    "dim_pet_breed.count()"
   ]
  },
  {
   "cell_type": "code",
   "execution_count": 20,
   "id": "d2674757-fc66-4db1-831a-a73663051220",
   "metadata": {},
   "outputs": [],
   "source": [
    "write_table(dim_pet_breed, \"dim_pet_breed\")"
   ]
  },
  {
   "cell_type": "markdown",
   "id": "13c5f702-1a04-4901-8697-ba9f6d38448f",
   "metadata": {},
   "source": [
    "Таблица dim_pet_category"
   ]
  },
  {
   "cell_type": "code",
   "execution_count": 21,
   "id": "6b07db86",
   "metadata": {},
   "outputs": [],
   "source": [
    "dim_pet_category = mock_data.alias(\"md\") \\\n",
    "    .select(\n",
    "        col(\"md.pet_category\").alias(\"pet_category_name\")\n",
    "    ) \\\n",
    "    .distinct()"
   ]
  },
  {
   "cell_type": "code",
   "execution_count": 22,
   "id": "62e0f849",
   "metadata": {},
   "outputs": [
    {
     "name": "stdout",
     "output_type": "stream",
     "text": [
      "+-----------------+\n",
      "|pet_category_name|\n",
      "+-----------------+\n",
      "|         Reptiles|\n",
      "|             Fish|\n",
      "|            Birds|\n",
      "|             Dogs|\n",
      "|             Cats|\n",
      "+-----------------+\n",
      "\n"
     ]
    },
    {
     "data": {
      "text/plain": [
       "5"
      ]
     },
     "execution_count": 22,
     "metadata": {},
     "output_type": "execute_result"
    }
   ],
   "source": [
    "dim_pet_category.show()\n",
    "dim_pet_category.count()"
   ]
  },
  {
   "cell_type": "code",
   "execution_count": 23,
   "id": "c64d4c24-e4c6-4668-bb7c-ef7183ecdcf6",
   "metadata": {},
   "outputs": [],
   "source": [
    "write_table(dim_pet_category, \"dim_pet_category\")"
   ]
  },
  {
   "cell_type": "markdown",
   "id": "2ab70f25-7e04-4743-9cb5-e279c10445db",
   "metadata": {},
   "source": [
    "Таблица dim_pet"
   ]
  },
  {
   "cell_type": "code",
   "execution_count": 24,
   "id": "9a6fe55c-9333-40a1-b15c-00e9f7c926b2",
   "metadata": {},
   "outputs": [],
   "source": [
    "dim_pet_type_df = read_table(\"dim_pet_type\")\n",
    "dim_pet_breed_df = read_table(\"dim_pet_breed\")\n",
    "dim_pet_category_df = read_table(\"dim_pet_category\")\n",
    "\n",
    "dim_pet = mock_data.alias(\"md\") \\\n",
    "    .join(dim_pet_type_df.alias(\"pt\"), col(\"md.customer_pet_type\") == col(\"pt.pet_type_name\")) \\\n",
    "    .join(dim_pet_breed_df.alias(\"pb\"), col(\"md.customer_pet_breed\") == col(\"pb.pet_breed_name\")) \\\n",
    "    .join(dim_pet_category_df.alias(\"pc\"), col(\"md.pet_category\") == col(\"pc.pet_category_name\")) \\\n",
    "    .select(\n",
    "        col(\"md.customer_pet_name\").alias(\"name\"),\n",
    "        col(\"pt.pet_type_id\"),\n",
    "        col(\"pb.pet_breed_id\"),\n",
    "        col(\"pc.pet_category_id\")   \n",
    "    ) \\\n",
    "    .distinct()"
   ]
  },
  {
   "cell_type": "code",
   "execution_count": 25,
   "id": "9a13c75a-b751-423d-9b9f-b25f93c3c3bc",
   "metadata": {},
   "outputs": [
    {
     "name": "stdout",
     "output_type": "stream",
     "text": [
      "+--------+-----------+------------+---------------+\n",
      "|    name|pet_type_id|pet_breed_id|pet_category_id|\n",
      "+--------+-----------+------------+---------------+\n",
      "|    Bili|          3|           2|              3|\n",
      "|   Cordi|          3|           2|              3|\n",
      "|    Addy|          3|           2|              3|\n",
      "|Isabelle|          1|           2|              3|\n",
      "| Hedvige|          1|           2|              3|\n",
      "|   Gayle|          3|           3|              3|\n",
      "|   Worth|          1|           3|              3|\n",
      "|   Maddy|          2|           1|              5|\n",
      "| Inesita|          2|           1|              5|\n",
      "|    Perl|          3|           2|              5|\n",
      "|   Moria|          3|           2|              5|\n",
      "|   Shawn|          3|           2|              5|\n",
      "|  Lamont|          3|           2|              5|\n",
      "|     Ira|          1|           2|              5|\n",
      "|Catriona|          1|           2|              5|\n",
      "| Ethelyn|          2|           3|              5|\n",
      "| Florian|          2|           3|              5|\n",
      "|   Merry|          1|           3|              5|\n",
      "|   Jules|          1|           3|              5|\n",
      "|  Waiter|          2|           1|              4|\n",
      "+--------+-----------+------------+---------------+\n",
      "only showing top 20 rows\n",
      "\n"
     ]
    },
    {
     "data": {
      "text/plain": [
       "9850"
      ]
     },
     "execution_count": 25,
     "metadata": {},
     "output_type": "execute_result"
    }
   ],
   "source": [
    "dim_pet.show()\n",
    "dim_pet.count()"
   ]
  },
  {
   "cell_type": "code",
   "execution_count": 26,
   "id": "8803bfa9-23ca-4798-9b02-0c8426945d4d",
   "metadata": {},
   "outputs": [],
   "source": [
    "write_table(dim_pet, \"dim_pet\")"
   ]
  },
  {
   "cell_type": "markdown",
   "id": "bbebb908-6d12-431f-bc3f-b1b76ea187dd",
   "metadata": {},
   "source": [
    "Таблица dim_customer"
   ]
  },
  {
   "cell_type": "code",
   "execution_count": 27,
   "id": "7e8b5347-3219-40be-9bfb-96c734f58bef",
   "metadata": {},
   "outputs": [],
   "source": [
    "dim_country_df = read_table(\"dim_country\")\n",
    "dim_pet_df = read_table(\"dim_pet\")\n",
    "dim_pet_type_df = read_table(\"dim_pet_type\")\n",
    "dim_pet_breed_df = read_table(\"dim_pet_breed\")\n",
    "dim_pet_category_df = read_table(\"dim_pet_category\")\n",
    "\n",
    "dim_customer = mock_data.alias(\"md\") \\\n",
    "    .join(dim_country_df.alias(\"c\"), col(\"md.customer_country\") == col(\"c.country_name\")) \\\n",
    "    .join(dim_pet_category_df.alias(\"dpc\"), col(\"md.pet_category\") == col(\"dpc.pet_category_name\")) \\\n",
    "    .join(dim_pet_breed_df.alias(\"dpb\"), col(\"md.customer_pet_breed\") == col(\"dpb.pet_breed_name\")) \\\n",
    "    .join(dim_pet_type_df.alias(\"dpt\"), col(\"md.customer_pet_type\") == col(\"dpt.pet_type_name\")) \\\n",
    "    .join(\n",
    "        dim_pet_df.alias(\"pt\"),\n",
    "        (col(\"md.customer_pet_name\") == col(\"pt.name\")) &\n",
    "        (col(\"pt.pet_category_id\") == col(\"dpc.pet_category_id\")) &\n",
    "        (col(\"pt.pet_breed_id\") == col(\"dpb.pet_breed_id\")) &\n",
    "        (col(\"pt.pet_type_id\") == col(\"dpt.pet_type_id\"))\n",
    "    ) \\\n",
    "    .select(\n",
    "        col(\"md.customer_first_name\").alias(\"first_name\"),\n",
    "        col(\"md.customer_last_name\").alias(\"last_name\"),\n",
    "        col(\"md.customer_age\").alias(\"age\"),\n",
    "        col(\"md.customer_email\").alias(\"email\"),\n",
    "        col(\"c.country_id\"),\n",
    "        col(\"md.customer_postal_code\").alias(\"postal_code\"),\n",
    "        col(\"pt.pet_id\")\n",
    "    ) \\\n",
    "    .distinct()\n"
   ]
  },
  {
   "cell_type": "code",
   "execution_count": 28,
   "id": "a84b353a",
   "metadata": {},
   "outputs": [
    {
     "name": "stdout",
     "output_type": "stream",
     "text": [
      "+----------+------------+---+--------------------+----------+-------------+------+\n",
      "|first_name|   last_name|age|               email|country_id|  postal_code|pet_id|\n",
      "+----------+------------+---+--------------------+----------+-------------+------+\n",
      "|   Karlene|   Suermeier| 40|dlafaye6t@moonfru...|        28|37032 CEDEX 1|  1492|\n",
      "| Hyacintha|     Marmyon| 21|ebewly1b@e-recht2...|        97|        34110|  5526|\n",
      "|   Ulberto|    Seiffert| 27|syeldingh@zimbio.com|         7|       334 80|  2917|\n",
      "|     Daron|      Dubois| 38|pmoggle3y@weebly.com|       160|    83750-000|  2928|\n",
      "|     Hedda|     Enrrico| 45|rdodswell7s@googl...|        10|         1219|  3037|\n",
      "|   Anderea|   Izakovitz| 59|     dcappsmv@si.edu|       171|       L-6562|  3479|\n",
      "|   Charles|     Selburn| 25|ogarlettix@jiathi...|         2|       666679|  6670|\n",
      "|     Molli|    McGeorge| 24|mmaccreacb@alibab...|       176|       87-410|  8550|\n",
      "|   Marlena|     Huthart| 34|btolletb@blogline...|       169|     839-1301|   359|\n",
      "|    Fabian|     Merritt| 69|  operecf@netlog.com|       160|    89270-000|   653|\n",
      "|   Chandal|     Creaven| 45|dcommuzzohx@opens...|         7|       283 45|  6928|\n",
      "|    Britta|     Aucoate| 18|  ebisonkb@phpbb.com|       196|       546079|  3840|\n",
      "|     Emlen|      Andres| 73|cliffee5@over-blo...|       158|       530 12|  2846|\n",
      "|    Lamont|      Topley| 34|bbunnell43@sogou.com|       176|       31-999|  9585|\n",
      "|    Tamara|    Harcombe| 65|rmorecombe15@alte...|       182|         5667|  6052|\n",
      "|   Tristam|      Tandey| 78|     ggeppj8@gnu.org|         2|       652878|  5486|\n",
      "|      Hedi|       Hayth| 66|aharbottleqt@nps.gov|       198|        67130|  9528|\n",
      "|     Orion|       Paten| 63|ppeinken1@hugedom...|        97|        23110|  9111|\n",
      "|   Yalonda|       Dibbe| 45|gdiddams1r@oakley...|       118|        39030|  7705|\n",
      "|   Beatrix|Dillingstone| 18|aadgerpi@odnoklas...|       177|     4415-400|  7185|\n",
      "+----------+------------+---+--------------------+----------+-------------+------+\n",
      "only showing top 20 rows\n",
      "\n"
     ]
    },
    {
     "data": {
      "text/plain": [
       "10000"
      ]
     },
     "execution_count": 28,
     "metadata": {},
     "output_type": "execute_result"
    }
   ],
   "source": [
    "dim_customer.show()\n",
    "dim_customer.count()"
   ]
  },
  {
   "cell_type": "code",
   "execution_count": 29,
   "id": "18c830cf",
   "metadata": {},
   "outputs": [],
   "source": [
    "write_table(dim_customer, \"dim_customer\")"
   ]
  },
  {
   "cell_type": "markdown",
   "id": "2ee18da2-c135-4509-8e58-703d887d5eba",
   "metadata": {},
   "source": [
    "Таблица dim_seller"
   ]
  },
  {
   "cell_type": "code",
   "execution_count": 30,
   "id": "e654fcb4",
   "metadata": {},
   "outputs": [],
   "source": [
    "dim_city_df = read_table(\"dim_city\")\n",
    "\n",
    "dim_seller = mock_data.alias(\"md\") \\\n",
    "    .join(dim_country_df.alias(\"c\"), col(\"md.seller_country\") == col(\"c.country_name\")) \\\n",
    "    .select(\n",
    "        col(\"md.seller_first_name\").alias(\"first_name\"),\n",
    "        col(\"md.seller_last_name\").alias(\"last_name\"),\n",
    "        col(\"md.seller_email\").alias(\"email\"),\n",
    "        col(\"c.country_id\"),\n",
    "        col(\"md.seller_postal_code\").alias(\"postal_code\"),\n",
    "    ) \\\n",
    "    .distinct()"
   ]
  },
  {
   "cell_type": "code",
   "execution_count": 31,
   "id": "240f6925",
   "metadata": {},
   "outputs": [
    {
     "name": "stdout",
     "output_type": "stream",
     "text": [
      "+----------+------------+--------------------+----------+-------------+\n",
      "|first_name|   last_name|               email|country_id|  postal_code|\n",
      "+----------+------------+--------------------+----------+-------------+\n",
      "|   Mitchel|  Chadderton|mchaddertoncq@tin...|         2|       141309|\n",
      "|     Sukey|       Pashe|    spasher8@163.com|         2|       632147|\n",
      "| Inglebert|       Hearn|    ihearn5b@sun.com|         2|       427439|\n",
      "|    Joshua|      Castan|jcastanei@photobu...|        10|         2614|\n",
      "|      Nero|       Slyde|   nslydeoz@ucsd.edu|        10|         6116|\n",
      "|    Daveen|  MacIlraith|dmacilraith27@123...|        10|         8407|\n",
      "|     Berke|    Prestner| bprestnerp2@ucoz.ru|        10|         3813|\n",
      "|   Filippa|     Gatchel|fgatchelpl@e-rech...|        10|         1470|\n",
      "|   Feodora|        Meek|fmeekk9@engadget.com|        13|        01606|\n",
      "|      Nari|     Fitchew|nfitchewfz@refere...|        28|79049 CEDEX 9|\n",
      "|     Brody|Margaritelli|bmargaritelliof@r...|        28|61891 CEDEX 9|\n",
      "|     Ruthe| Van Bruggen|rvann1@surveymonk...|        38|         2156|\n",
      "|    Carney|     Staynes| cstaynesp2@xing.com|        38|         9207|\n",
      "|    Corney|  Pillington|cpillington6b@blo...|        38|         3403|\n",
      "|     Brigg|       Segar|bsegar8t@addtoany...|        49|        98815|\n",
      "|    Kessia|      Lorait|kloraitc7@github.com|        57|        79999|\n",
      "|  Osbourne|      Rodman|orodmancs@cargoco...|        94|          P56|\n",
      "|      Tana|   McQuarrie|tmcquarrie9e@mult...|       154|         1227|\n",
      "|   Veradis|   Coverdale|vcoverdaler1@live...|       160|    68870-000|\n",
      "|   Ezekiel|      Geekie|egeekiect@bigcart...|       169|     999-5203|\n",
      "+----------+------------+--------------------+----------+-------------+\n",
      "only showing top 20 rows\n",
      "\n"
     ]
    },
    {
     "data": {
      "text/plain": [
       "10000"
      ]
     },
     "execution_count": 31,
     "metadata": {},
     "output_type": "execute_result"
    }
   ],
   "source": [
    "dim_seller.show()\n",
    "dim_seller.count()"
   ]
  },
  {
   "cell_type": "code",
   "execution_count": 32,
   "id": "3a833c12",
   "metadata": {},
   "outputs": [],
   "source": [
    "write_table(dim_seller, \"dim_seller\")"
   ]
  },
  {
   "cell_type": "markdown",
   "id": "e76fcac7-60f6-4995-8037-330ae5c0937f",
   "metadata": {},
   "source": [
    "Таблица dim_supplier"
   ]
  },
  {
   "cell_type": "code",
   "execution_count": 33,
   "id": "bcb21f05-1191-44d2-a7d4-d05a448ed438",
   "metadata": {},
   "outputs": [],
   "source": [
    "dim_supplier = mock_data.alias(\"md\") \\\n",
    "    .join(dim_country_df.alias(\"c\"), col(\"md.supplier_country\") == col(\"c.country_name\")) \\\n",
    "    .join(dim_city_df.alias(\"ct\"), col(\"md.supplier_city\") == col(\"ct.city_name\")) \\\n",
    "    .select(\n",
    "        col(\"md.supplier_name\").alias(\"name\"),\n",
    "        col(\"md.supplier_contact\").alias(\"contact\"),\n",
    "        col(\"md.supplier_email\").alias(\"email\"),\n",
    "        col(\"md.supplier_phone\").alias(\"phone\"),\n",
    "        col(\"md.supplier_address\").alias(\"address\"),\n",
    "        col(\"ct.city_id\"),\n",
    "        col(\"c.country_id\")\n",
    "    ) \\\n",
    "    .distinct()"
   ]
  },
  {
   "cell_type": "code",
   "execution_count": 34,
   "id": "ef66ca22-6953-41cb-a8ff-d5f87ab4a523",
   "metadata": {},
   "outputs": [
    {
     "name": "stdout",
     "output_type": "stream",
     "text": [
      "+----------+-------------------+--------------------+------------+------------+-------+----------+\n",
      "|      name|            contact|               email|       phone|     address|city_id|country_id|\n",
      "+----------+-------------------+--------------------+------------+------------+-------+----------+\n",
      "|     Yamia|       Levy Duferie|lduferie7a@typepa...|690-727-9072|   Room 1745|   9584|         2|\n",
      "| Browsebug|   Humphrey Kelinge|hkelinge2b@scienc...|587-999-7122|    Apt 1654|   4457|         7|\n",
      "|   Zoombox|    Jordanna Klambt|jklambtb8@feedbur...|987-203-7278|   Room 1901|  12473|         7|\n",
      "|   Dabtype|     Erma Charrette|  echarretteay@is.gd|590-264-6444|   Room 1682|  13176|        10|\n",
      "|  Realcube|      Cybill Busain|cbusainex@paypal.com|742-902-5584|    Apt 1496|  14168|        10|\n",
      "| Rhynoodle|     Giovanna Buzza|   gbuzzahc@hibu.com|743-170-5278|   9th Floor|  12665|        17|\n",
      "|      Jayo|       Rossy Leedes|rleedesaj@unicef.org|226-483-8338|    Suite 43|  11983|        20|\n",
      "|    Voonte|   Glennie Millions|gmillions2p@tamu.edu|455-570-5936|    Room 136|   9802|        28|\n",
      "|    Quimba|        Nye Connold|nconnold2x@creati...|312-137-9028|      Apt 43|  12052|        28|\n",
      "|    Kaymbo|        Davy Ventum|dventumd9@domainm...|334-950-2695|   9th Floor|    737|        28|\n",
      "|     Eazzy|  Loralee Callendar|lcallendarkv@aol.com|409-938-6764|     Apt 831|   8844|        28|\n",
      "|     Ainyx|    Giorgi Goodwins|ggoodwins3c@dedec...|177-490-7927|   5th Floor|  10172|        29|\n",
      "|  Realblab|     Helli Healings| hhealings3z@icq.com|155-349-8873|  14th Floor|   4420|        29|\n",
      "|     Janyx|      Zane MacVaugh|zmacvaughg6@webed...|268-413-5530|     Room 47|   7749|        49|\n",
      "|     Ntags|      Andrei Kobelt|akobeltbi@aboutad...|346-191-5146|   Room 1602|  11432|        53|\n",
      "|     Meemm|      Denise Darque| ddarqueel@google.de|632-955-2709|PO Box 80394|   4673|        53|\n",
      "| Photobean|       Rahal Laurie|rlauriene@cornell...|672-176-3278|PO Box 30867|   9334|        53|\n",
      "|      Lazz|      Sydelle Edgar|sedgar4@reverbnat...|861-980-8811|    Suite 79|  14013|        56|\n",
      "|Topicshots|Evangelia Sinkinson|esinkinson5p@shin...|494-271-6911| PO Box 3110|  12881|        56|\n",
      "| Reallinks|       Emmalee Hurl|ehurl39@bloglines...|590-927-5528|    Suite 53|  11197|        56|\n",
      "+----------+-------------------+--------------------+------------+------------+-------+----------+\n",
      "only showing top 20 rows\n",
      "\n"
     ]
    },
    {
     "data": {
      "text/plain": [
       "10000"
      ]
     },
     "execution_count": 34,
     "metadata": {},
     "output_type": "execute_result"
    }
   ],
   "source": [
    "dim_supplier.show()\n",
    "dim_supplier.count()"
   ]
  },
  {
   "cell_type": "code",
   "execution_count": 35,
   "id": "6535bb0f-5d04-416c-97a5-6e09454e63e6",
   "metadata": {},
   "outputs": [],
   "source": [
    "write_table(dim_supplier, \"dim_supplier\")"
   ]
  },
  {
   "cell_type": "markdown",
   "id": "7f77c211-dfe0-4df3-bd63-0e678cdb3245",
   "metadata": {},
   "source": [
    "Табилца dim_store"
   ]
  },
  {
   "cell_type": "code",
   "execution_count": 36,
   "id": "1058fb72-2b34-4465-9ad0-4d4a0b39e211",
   "metadata": {},
   "outputs": [],
   "source": [
    "dim_store = mock_data.alias(\"md\") \\\n",
    "    .join(dim_country_df.alias(\"c\"), col(\"md.store_country\") == col(\"c.country_name\")) \\\n",
    "    .join(dim_city_df.alias(\"ct\"), col(\"md.store_city\") == col(\"ct.city_name\")) \\\n",
    "    .select(\n",
    "        col(\"md.store_name\").alias(\"name\"),\n",
    "        col(\"md.store_location\").alias(\"location\"),\n",
    "        col(\"ct.city_id\"),\n",
    "        col(\"md.store_state\").alias(\"state\"),\n",
    "        col(\"c.country_id\"),\n",
    "        col(\"md.store_phone\").alias(\"phone\"),\n",
    "        col(\"md.store_email\").alias(\"email\")\n",
    "    ) \\\n",
    "    .distinct()"
   ]
  },
  {
   "cell_type": "code",
   "execution_count": 37,
   "id": "b0180d35-0325-49f0-850e-7d47d506c218",
   "metadata": {},
   "outputs": [
    {
     "name": "stdout",
     "output_type": "stream",
     "text": [
      "+----------+------------+-------+-----+----------+------------+--------------------+\n",
      "|      name|    location|city_id|state|country_id|       phone|               email|\n",
      "+----------+------------+-------+-----+----------+------------+--------------------+\n",
      "| Linklinks|    Suite 76|    680|   CA|        29|760-109-4086|hblackbourn7g@clo...|\n",
      "|  Innotype|   Room 1471|   6980|   A5|        97|767-675-9070|cfreelandh8@about...|\n",
      "|   Skippad|   Room 1421|    453|  VER|       123|923-120-1631|alamprecht89@geoc...|\n",
      "|    Talane|    Room 770|   6170|   BD|       169|119-915-7580|kborgesio54@csmon...|\n",
      "|    Leenti|   2nd Floor|   4382|   11|       169|369-916-3645|   cchandlaral@is.gd|\n",
      "| Skipstorm|PO Box 35455|   6189|   11|       177|722-142-5422|    eloosra@bing.com|\n",
      "| Photolist|  16th Floor|   3030|   ON|       199|719-912-7433|   mhawesky@digg.com|\n",
      "|   Youfeed|     Apt 633|   7836|   NC|         2|704-280-5105|wzappelo4@merriam...|\n",
      "|Brainverse|    Suite 83|   1939|   BE|        28|196-979-6650|mrayment4r@acquir...|\n",
      "| Photolist|  20th Floor|   2966|   WI|        56|920-962-2191|chartopjr@utexas.edu|\n",
      "|   Tagchat|     Apt 702|    981|  MLK|        56|349-324-5605|  hhurrell2l@irs.gov|\n",
      "|    Agimba|   9th Floor|   1007|   AB|        56|602-853-2156|lmcneilgg@google....|\n",
      "|  Brainbox|     Suite 9|   4686|   B8|        56|152-682-8647|   jscudhf@naver.com|\n",
      "|  Digitube|PO Box 66975|   5462|    T|        56|898-516-9267|glachaizeci@umich...|\n",
      "|      Yata|      Apt 33|   4670|   NY|        56|347-440-9764|dlefeuvrecj@yolas...|\n",
      "|      Oloo|    Suite 61|   1007|   AB|        73|779-447-8516|zparmenterjr@wiki...|\n",
      "|  Realbuzz|    Suite 26|   2945|   BC|       123|575-650-6007|bdorbonky@elegant...|\n",
      "|     Ainyx|    Suite 24|   3550|   LZ|       131|511-538-8216| mguagea3@sphinn.com|\n",
      "|    Devbug|    Suite 43|   3082|    G|       160|396-419-8048| bdarcyrm@discuz.net|\n",
      "|  Wordware|PO Box 66320|   2330|   BC|       168|271-499-5048|acookley8v@yandex.ru|\n",
      "+----------+------------+-------+-----+----------+------------+--------------------+\n",
      "only showing top 20 rows\n",
      "\n"
     ]
    },
    {
     "data": {
      "text/plain": [
       "10000"
      ]
     },
     "execution_count": 37,
     "metadata": {},
     "output_type": "execute_result"
    }
   ],
   "source": [
    "dim_store.show()\n",
    "dim_store.count()"
   ]
  },
  {
   "cell_type": "code",
   "execution_count": 38,
   "id": "b8d04b3f-3dbb-4596-8ae9-5274f424ba9b",
   "metadata": {},
   "outputs": [],
   "source": [
    "write_table(dim_store, \"dim_store\")"
   ]
  },
  {
   "cell_type": "markdown",
   "id": "ac38b913-a129-4bef-83e7-83a4fdaa11e7",
   "metadata": {},
   "source": [
    "Таблица dim_product_name"
   ]
  },
  {
   "cell_type": "code",
   "execution_count": 39,
   "id": "5132c307-5587-4f31-95c4-925d8a2f3cda",
   "metadata": {},
   "outputs": [],
   "source": [
    "dim_product_name = mock_data \\\n",
    "    .select(\n",
    "        col(\"product_name\")\n",
    "    ) \\\n",
    "    .distinct()"
   ]
  },
  {
   "cell_type": "code",
   "execution_count": 40,
   "id": "beb0054f-3b6d-43c0-88d2-b9d102bd2eeb",
   "metadata": {},
   "outputs": [
    {
     "name": "stdout",
     "output_type": "stream",
     "text": [
      "+------------+\n",
      "|product_name|\n",
      "+------------+\n",
      "|   Bird Cage|\n",
      "|    Dog Food|\n",
      "|     Cat Toy|\n",
      "+------------+\n",
      "\n"
     ]
    },
    {
     "data": {
      "text/plain": [
       "3"
      ]
     },
     "execution_count": 40,
     "metadata": {},
     "output_type": "execute_result"
    }
   ],
   "source": [
    "dim_product_name.show()\n",
    "dim_product_name.count()"
   ]
  },
  {
   "cell_type": "code",
   "execution_count": 41,
   "id": "a4393e95-c705-414d-90ce-18527b1feaf7",
   "metadata": {},
   "outputs": [],
   "source": [
    "write_table(dim_product_name, \"dim_product_name\")"
   ]
  },
  {
   "cell_type": "markdown",
   "id": "c4f9ab6b-f4c1-4188-8a51-8468e0b45c4e",
   "metadata": {},
   "source": [
    "Таблица dim_product_category"
   ]
  },
  {
   "cell_type": "code",
   "execution_count": 42,
   "id": "ac27e020-de8d-467a-8a22-0c1eca04103f",
   "metadata": {},
   "outputs": [],
   "source": [
    "dim_product_category = mock_data \\\n",
    "    .select(\n",
    "        col(\"product_category\").alias(\"category_name\")\n",
    "    ) \\\n",
    "    .distinct()"
   ]
  },
  {
   "cell_type": "code",
   "execution_count": 43,
   "id": "898f249a-2581-4cc1-90f4-508788958a8f",
   "metadata": {},
   "outputs": [
    {
     "name": "stdout",
     "output_type": "stream",
     "text": [
      "+-------------+\n",
      "|category_name|\n",
      "+-------------+\n",
      "|         Cage|\n",
      "|         Food|\n",
      "|          Toy|\n",
      "+-------------+\n",
      "\n"
     ]
    },
    {
     "data": {
      "text/plain": [
       "3"
      ]
     },
     "execution_count": 43,
     "metadata": {},
     "output_type": "execute_result"
    }
   ],
   "source": [
    "dim_product_category.show()\n",
    "dim_product_category.count()"
   ]
  },
  {
   "cell_type": "code",
   "execution_count": 44,
   "id": "6e14f45c-e4f9-460b-8a11-5736bea97b45",
   "metadata": {},
   "outputs": [],
   "source": [
    "write_table(dim_product_category, \"dim_product_category\")"
   ]
  },
  {
   "cell_type": "markdown",
   "id": "efd23c4f-db3a-4a9a-a15a-105c5d03e595",
   "metadata": {},
   "source": [
    "Табилца dim_brand"
   ]
  },
  {
   "cell_type": "code",
   "execution_count": 45,
   "id": "236028ff-99c2-47bb-8783-6b0bfb590964",
   "metadata": {},
   "outputs": [],
   "source": [
    "dim_brand = mock_data \\\n",
    "    .select(\n",
    "        col(\"product_brand\").alias(\"brand_name\")\n",
    "    ) \\\n",
    "    .distinct()"
   ]
  },
  {
   "cell_type": "code",
   "execution_count": 46,
   "id": "253101dc-6e09-448a-bb22-fbdfa0d62887",
   "metadata": {},
   "outputs": [
    {
     "name": "stdout",
     "output_type": "stream",
     "text": [
      "+------------+\n",
      "|  brand_name|\n",
      "+------------+\n",
      "|     Jetwire|\n",
      "|    Jaxworks|\n",
      "|   Reallinks|\n",
      "| Brainlounge|\n",
      "|    Snaptags|\n",
      "|    Feedfish|\n",
      "|       Kamba|\n",
      "|    Skipfire|\n",
      "|      Quimba|\n",
      "|       Quaxo|\n",
      "|    Realfire|\n",
      "|      Oyondu|\n",
      "|      BlogXS|\n",
      "|Thoughtworks|\n",
      "|  Browsezoom|\n",
      "|     Voonder|\n",
      "|   Photofeed|\n",
      "|   Babbleset|\n",
      "|       Yabox|\n",
      "|       Einti|\n",
      "+------------+\n",
      "only showing top 20 rows\n",
      "\n"
     ]
    },
    {
     "data": {
      "text/plain": [
       "383"
      ]
     },
     "execution_count": 46,
     "metadata": {},
     "output_type": "execute_result"
    }
   ],
   "source": [
    "dim_brand.show()\n",
    "dim_brand.count()"
   ]
  },
  {
   "cell_type": "code",
   "execution_count": 47,
   "id": "30e8f426-25f2-4624-9312-a84a9fb9544e",
   "metadata": {},
   "outputs": [],
   "source": [
    "write_table(dim_brand, \"dim_brand\")"
   ]
  },
  {
   "cell_type": "markdown",
   "id": "c8af376e-ab5e-4963-a5d5-f5bf1cae82ca",
   "metadata": {},
   "source": [
    "Таблица dim_material"
   ]
  },
  {
   "cell_type": "code",
   "execution_count": 48,
   "id": "2cf83be4-129b-4923-854c-757907f2fee0",
   "metadata": {},
   "outputs": [],
   "source": [
    "dim_material = mock_data \\\n",
    "    .select(\n",
    "        col(\"product_material\").alias(\"material_name\")\n",
    "    ) \\\n",
    "    .distinct()"
   ]
  },
  {
   "cell_type": "code",
   "execution_count": 49,
   "id": "b9ba0947-8dfb-46ff-a126-4327ce2c1752",
   "metadata": {},
   "outputs": [
    {
     "name": "stdout",
     "output_type": "stream",
     "text": [
      "+-------------+\n",
      "|material_name|\n",
      "+-------------+\n",
      "|        Steel|\n",
      "|        Vinyl|\n",
      "|      Granite|\n",
      "|        Glass|\n",
      "|      Plastic|\n",
      "|     Aluminum|\n",
      "|         Wood|\n",
      "|       Rubber|\n",
      "|        Stone|\n",
      "|   Plexiglass|\n",
      "|        Brass|\n",
      "+-------------+\n",
      "\n"
     ]
    },
    {
     "data": {
      "text/plain": [
       "11"
      ]
     },
     "execution_count": 49,
     "metadata": {},
     "output_type": "execute_result"
    }
   ],
   "source": [
    "dim_material.show()\n",
    "dim_material.count()"
   ]
  },
  {
   "cell_type": "code",
   "execution_count": 50,
   "id": "e4cbf952-801e-4cd7-a117-79c171a02330",
   "metadata": {},
   "outputs": [],
   "source": [
    "write_table(dim_material, \"dim_material\")"
   ]
  },
  {
   "cell_type": "markdown",
   "id": "a773ecc3-d3f9-43a8-b769-1cc9de14dc73",
   "metadata": {},
   "source": [
    "Таблица dim_material"
   ]
  },
  {
   "cell_type": "code",
   "execution_count": 51,
   "id": "f10ae2a6-0315-4d08-bcd6-7359d1a2d5c3",
   "metadata": {},
   "outputs": [],
   "source": [
    "dim_color = mock_data \\\n",
    "    .select(\n",
    "        col(\"product_color\").alias(\"color_name\")\n",
    "    ) \\\n",
    "    .distinct()"
   ]
  },
  {
   "cell_type": "code",
   "execution_count": 52,
   "id": "279ccbf6-2a7d-4aa3-bf99-2169ec40433b",
   "metadata": {},
   "outputs": [
    {
     "name": "stdout",
     "output_type": "stream",
     "text": [
      "+----------+\n",
      "|color_name|\n",
      "+----------+\n",
      "|      Teal|\n",
      "|     Khaki|\n",
      "|   Crimson|\n",
      "|    Orange|\n",
      "|    Indigo|\n",
      "|      Puce|\n",
      "|    Fuscia|\n",
      "| Turquoise|\n",
      "|     Green|\n",
      "|    Purple|\n",
      "|Aquamarine|\n",
      "|      Blue|\n",
      "|    Violet|\n",
      "|    Yellow|\n",
      "|       Red|\n",
      "|      Pink|\n",
      "| Goldenrod|\n",
      "|      Mauv|\n",
      "|    Maroon|\n",
      "+----------+\n",
      "\n"
     ]
    },
    {
     "data": {
      "text/plain": [
       "19"
      ]
     },
     "execution_count": 52,
     "metadata": {},
     "output_type": "execute_result"
    }
   ],
   "source": [
    "dim_color.show()\n",
    "dim_color.count()"
   ]
  },
  {
   "cell_type": "code",
   "execution_count": 53,
   "id": "06812bd3-e2df-408d-a198-7e7714456382",
   "metadata": {},
   "outputs": [],
   "source": [
    "write_table(dim_color, \"dim_color\")"
   ]
  },
  {
   "cell_type": "markdown",
   "id": "09e61060-baba-401d-b4e6-4fdc7b8bcd3b",
   "metadata": {},
   "source": [
    "Таблица dim_size"
   ]
  },
  {
   "cell_type": "code",
   "execution_count": 54,
   "id": "a050ac03-811d-4a22-a062-b4b4f4686d0e",
   "metadata": {},
   "outputs": [],
   "source": [
    "dim_size = mock_data \\\n",
    "    .select(\n",
    "        col(\"product_size\").alias(\"size_name\")\n",
    "    ) \\\n",
    "    .distinct()"
   ]
  },
  {
   "cell_type": "code",
   "execution_count": 55,
   "id": "a9ed1261-6db5-4a3d-aa53-8cbce23215ba",
   "metadata": {},
   "outputs": [
    {
     "name": "stdout",
     "output_type": "stream",
     "text": [
      "+---------+\n",
      "|size_name|\n",
      "+---------+\n",
      "|   Medium|\n",
      "|    Small|\n",
      "|    Large|\n",
      "+---------+\n",
      "\n"
     ]
    },
    {
     "data": {
      "text/plain": [
       "3"
      ]
     },
     "execution_count": 55,
     "metadata": {},
     "output_type": "execute_result"
    }
   ],
   "source": [
    "dim_size.show()\n",
    "dim_size.count()"
   ]
  },
  {
   "cell_type": "code",
   "execution_count": 56,
   "id": "e1e2a674-2bc6-469e-806e-3a388237bdb1",
   "metadata": {},
   "outputs": [],
   "source": [
    "write_table(dim_size, \"dim_size\")"
   ]
  },
  {
   "cell_type": "markdown",
   "id": "6872522e-7bbd-42f2-afc1-a7ce1bf2e1d7",
   "metadata": {},
   "source": [
    "Таблица dim_product"
   ]
  },
  {
   "cell_type": "code",
   "execution_count": 57,
   "id": "6193bb3e-aab7-4614-8fc4-19b27e837978",
   "metadata": {},
   "outputs": [],
   "source": [
    "dim_product_name_df = read_table(\"dim_product_name\")\n",
    "dim_product_category_df = read_table(\"dim_product_category\")\n",
    "dim_brand_df = read_table(\"dim_brand\")\n",
    "dim_material_df = read_table(\"dim_material\")\n",
    "dim_color_df = read_table(\"dim_color\")\n",
    "dim_size_df = read_table(\"dim_size\")\n",
    "dim_supplier_df = read_table(\"dim_supplier\")"
   ]
  },
  {
   "cell_type": "code",
   "execution_count": 58,
   "id": "05a88813-1a77-4dea-bcc7-da7f9286223f",
   "metadata": {},
   "outputs": [],
   "source": [
    "dim_product = mock_data.alias(\"md\") \\\n",
    "    .join(dim_product_name_df.alias(\"dpn\"), col(\"md.product_name\") == col(\"dpn.product_name\")) \\\n",
    "    .join(dim_product_category_df.alias(\"dpc\"), col(\"md.product_category\") == col(\"dpc.category_name\")) \\\n",
    "    .join(dim_brand_df.alias(\"db\"), col(\"md.product_brand\") == col(\"db.brand_name\")) \\\n",
    "    .join(dim_material_df.alias(\"dm\"), col(\"md.product_material\") == col(\"dm.material_name\")) \\\n",
    "    .join(dim_color_df.alias(\"dc\"), col(\"md.product_color\") == col(\"dc.color_name\")) \\\n",
    "    .join(dim_size_df.alias(\"ds\"), col(\"md.product_size\") == col(\"ds.size_name\")) \\\n",
    "    .join(dim_supplier_df.alias(\"ppp\"), col(\"md.supplier_email\") == col(\"ppp.email\")) \\\n",
    "    .select(\n",
    "        col(\"dpn.product_name_id\"),\n",
    "        col(\"dpc.category_id\"),\n",
    "        col(\"md.product_price\").alias(\"price\"),\n",
    "        col(\"md.product_quantity\").alias(\"quantity\"),\n",
    "        col(\"md.product_weight\").alias(\"weight\"),\n",
    "        col(\"dc.color_id\"),\n",
    "        col(\"ds.size_id\"),\n",
    "        col(\"db.brand_id\"),\n",
    "        col(\"dm.material_id\"),\n",
    "        col(\"md.product_description\").alias(\"description\"),\n",
    "        col(\"md.product_rating\").alias(\"rating\"),\n",
    "        col(\"md.product_reviews\").alias(\"reviews\"),\n",
    "        col(\"md.product_release_date\").alias(\"release_date\"),\n",
    "        col(\"md.product_expiry_date\").alias(\"expiry_date\"),\n",
    "        col(\"ppp.supplier_id\")\n",
    "    ) \\\n",
    "    .distinct()"
   ]
  },
  {
   "cell_type": "code",
   "execution_count": 59,
   "id": "fa0e9bd0-7cdc-45ba-810d-0ce20c79e772",
   "metadata": {},
   "outputs": [
    {
     "name": "stdout",
     "output_type": "stream",
     "text": [
      "+---------------+-----------+--------------------+--------+--------------------+--------+-------+--------+-----------+--------------------+--------------------+-------+------------+-----------+-----------+\n",
      "|product_name_id|category_id|               price|quantity|              weight|color_id|size_id|brand_id|material_id|         description|              rating|reviews|release_date|expiry_date|supplier_id|\n",
      "+---------------+-----------+--------------------+--------+--------------------+--------+-------+--------+-----------+--------------------+--------------------+-------+------------+-----------+-----------+\n",
      "|              3|          3|15.68000000000000...|      47|4.200000000000000000|      11|      3|     240|          5|Duis bibendum, fe...|3.300000000000000000|    991|  2020-07-06| 2023-02-13|       4133|\n",
      "|              3|          1|25.33000000000000...|      46|45.90000000000000...|      12|      3|     277|          2|Sed sagittis. Nam...|4.700000000000000000|    192|  2021-08-24| 2026-06-08|       7363|\n",
      "|              1|          3|24.09000000000000...|      84|47.10000000000000...|       3|      3|     175|          8|Pellentesque at n...|2.900000000000000000|    933|  2022-05-04| 2025-06-22|       9907|\n",
      "|              2|          3|74.99000000000000...|      85|13.40000000000000...|       3|      3|     178|          7|Cras non velit ne...|4.700000000000000000|    959|  2017-11-18| 2030-01-20|       7849|\n",
      "|              2|          3|96.64000000000000...|      85|2.500000000000000000|       7|      3|     200|          2|In hac habitasse ...|3.100000000000000000|    407|  2010-01-09| 2029-01-07|       2284|\n",
      "|              3|          2|39.63000000000000...|      19|2.100000000000000000|       5|      3|     200|          5|Maecenas ut massa...|2.000000000000000000|    292|  2019-07-29| 2029-02-05|       6916|\n",
      "|              3|          1|82.30000000000000...|      85|4.700000000000000000|       2|      3|     108|          1|Etiam vel augue. ...|3.800000000000000000|    844|  2010-10-04| 2024-11-12|       7836|\n",
      "|              3|          2|13.92000000000000...|      11|5.800000000000000000|      18|      3|      23|          4|Sed ante. Vivamus...|4.300000000000000000|    384|  2019-11-04| 2027-01-18|       9573|\n",
      "|              2|          2|69.58000000000000...|      27|36.40000000000000...|      18|      3|     133|          7|Duis bibendum. Mo...|1.300000000000000000|    518|  2010-01-02| 2028-09-07|       4060|\n",
      "|              2|          1|49.69000000000000...|      69|23.60000000000000...|      16|      3|      93|          5|Duis aliquam conv...|1.100000000000000000|    348|  2022-01-27| 2027-10-24|       3752|\n",
      "|              3|          2|41.74000000000000...|      27|44.90000000000000...|       6|      3|     153|          3|Maecenas leo odio...|2.700000000000000000|     86|  2021-09-14| 2027-09-07|       8006|\n",
      "|              3|          2|17.56000000000000...|      60|39.30000000000000...|       6|      3|     295|          5|Nulla ut erat id ...|4.000000000000000000|    144|  2010-06-08| 2029-02-14|       5661|\n",
      "|              1|          1|40.65000000000000...|      55|0.300000000000000000|      10|      3|     123|         11|Sed ante. Vivamus...|1.200000000000000000|    115|  2011-07-13| 2027-01-06|       3620|\n",
      "|              3|          2|89.81000000000000...|      74|18.70000000000000...|       8|      3|      71|          1|Phasellus in feli...|1.600000000000000000|    891|  2021-06-07| 2025-03-17|       4906|\n",
      "|              2|          1|53.86000000000000...|      13|49.70000000000000...|      13|      3|     172|         11|Praesent blandit....|4.400000000000000000|     27|  2011-05-08| 2026-01-23|       2819|\n",
      "|              3|          3|88.77000000000000...|       7|29.60000000000000...|      13|      3|     113|          2|Sed sagittis. Nam...|3.000000000000000000|    348|  2016-11-29| 2030-08-01|       6302|\n",
      "|              2|          3|39.92000000000000...|      54|37.30000000000000...|      13|      3|      70|          2|Pellentesque at n...|1.100000000000000000|    778|  2013-10-01| 2028-12-12|       1566|\n",
      "|              2|          3|11.10000000000000...|      91|14.70000000000000...|      14|      3|      70|          9|Praesent id massa...|5.000000000000000000|    567|  2010-12-11| 2024-06-14|       5762|\n",
      "|              1|          3|40.66000000000000...|      84|17.80000000000000...|      11|      1|     218|          4|In hac habitasse ...|1.900000000000000000|     48|  2013-01-01| 2030-03-29|       2551|\n",
      "|              1|          1|49.67000000000000...|      61|49.20000000000000...|      11|      1|     112|          1|Donec diam neque,...|4.200000000000000000|    602|  2015-05-23| 2024-10-05|       8535|\n",
      "+---------------+-----------+--------------------+--------+--------------------+--------+-------+--------+-----------+--------------------+--------------------+-------+------------+-----------+-----------+\n",
      "only showing top 20 rows\n",
      "\n"
     ]
    },
    {
     "data": {
      "text/plain": [
       "10000"
      ]
     },
     "execution_count": 59,
     "metadata": {},
     "output_type": "execute_result"
    }
   ],
   "source": [
    "dim_product.show()\n",
    "dim_product.count()"
   ]
  },
  {
   "cell_type": "code",
   "execution_count": 60,
   "id": "7de3f2cc-7c37-445b-956b-f374f6a6210f",
   "metadata": {},
   "outputs": [],
   "source": [
    "write_table(dim_product, \"dim_product\")"
   ]
  },
  {
   "cell_type": "markdown",
   "id": "cb1b53be-e8ca-4607-8244-a3cae1086f97",
   "metadata": {},
   "source": [
    "Таблица fact_sales"
   ]
  },
  {
   "cell_type": "code",
   "execution_count": 61,
   "id": "9483efc2-e1aa-42a5-b814-912282268ffa",
   "metadata": {},
   "outputs": [],
   "source": [
    "dim_customer_df = read_table(\"dim_customer\")\n",
    "dim_seller_df = read_table(\"dim_seller\")\n",
    "dim_store_df = read_table(\"dim_store\")\n",
    "dim_product_df = read_table(\"dim_product\")"
   ]
  },
  {
   "cell_type": "code",
   "execution_count": 62,
   "id": "289148ea-8ad5-4b87-90cf-706b034001c8",
   "metadata": {},
   "outputs": [],
   "source": [
    "fact_sales = mock_data.alias(\"md\") \\\n",
    "    .join(dim_customer_df.alias(\"c\"), col(\"md.customer_email\") == col(\"c.email\")) \\\n",
    "    .join(dim_seller_df.alias(\"s\"), col(\"md.seller_email\") == col(\"s.email\")) \\\n",
    "    .join(dim_store_df.alias(\"st\"), \n",
    "          (col(\"md.store_name\") == col(\"st.name\")) &\n",
    "          (col(\"md.store_location\") == col(\"st.location\")) &\n",
    "          (col(\"md.store_phone\") == col(\"st.phone\"))\n",
    "    ) \\\n",
    "    .join(dim_product_name_df.alias(\"dpn\"), col(\"md.product_name\") == col(\"dpn.product_name\")) \\\n",
    "    .join(dim_product_df.alias(\"pr\"),\n",
    "          (col(\"dpn.product_name_id\") == col(\"pr.product_name_id\")) &\n",
    "          (col(\"md.product_price\") == col(\"pr.price\")) &\n",
    "          (col(\"md.product_quantity\") == col(\"pr.quantity\")) &\n",
    "          (col(\"md.product_weight\") == col(\"pr.weight\"))\n",
    "    ) \\\n",
    "    .select(\n",
    "        col(\"md.sale_date\"),\n",
    "        col(\"md.sale_quantity\"),\n",
    "        col(\"md.sale_total_price\"),\n",
    "        col(\"c.customer_id\"),\n",
    "        col(\"s.seller_id\"),\n",
    "        col(\"st.store_id\"),\n",
    "        col(\"pr.product_id\")\n",
    "    )"
   ]
  },
  {
   "cell_type": "code",
   "execution_count": 63,
   "id": "ce666601-7d96-429f-9d26-895cdcf91196",
   "metadata": {},
   "outputs": [
    {
     "name": "stdout",
     "output_type": "stream",
     "text": [
      "+----------+-------------+--------------------+-----------+---------+--------+----------+\n",
      "| sale_date|sale_quantity|    sale_total_price|customer_id|seller_id|store_id|product_id|\n",
      "+----------+-------------+--------------------+-----------+---------+--------+----------+\n",
      "|2021-01-14|            7|19.18000000000000...|       3101|     2707|    3006|      8413|\n",
      "|2021-08-11|            4|134.3400000000000...|       3563|      435|     155|      7032|\n",
      "|2021-01-22|            5|322.1600000000000...|       9084|     1279|    7210|      1808|\n",
      "|2021-07-06|            1|271.1000000000000...|       1161|     1651|     811|      6702|\n",
      "|2021-12-03|            6|89.39000000000000...|       4742|     6091|    9672|      5174|\n",
      "|2021-06-28|            6|380.5500000000000...|       9484|     5410|    3761|      7564|\n",
      "|2021-03-31|            6|80.96000000000000...|       9057|     5432|    6208|      6659|\n",
      "|2021-02-25|            6|223.0900000000000...|       4848|     6878|    5077|      8975|\n",
      "|2021-06-13|            9|181.1900000000000...|        363|     9035|    1460|      1160|\n",
      "|2021-04-30|            6|318.7000000000000...|       3526|     9545|    3704|      1538|\n",
      "|2021-04-14|            6|270.2000000000000...|       4692|     6568|    6796|      4699|\n",
      "|2021-11-23|            9|239.9900000000000...|       8658|     4544|    9363|      2765|\n",
      "|2021-08-04|            4|51.76000000000000...|       3371|     8077|    9867|      6130|\n",
      "|2021-02-16|            4|255.0500000000000...|       2429|     9039|    8018|      2494|\n",
      "|2021-11-13|            4|402.3000000000000...|       2049|     6811|    6997|      4848|\n",
      "|2021-12-14|            3|389.4100000000000...|       7425|     9370|    6645|       129|\n",
      "|2021-07-31|            7|392.5000000000000...|       6247|     2701|    5980|      4333|\n",
      "|2021-08-21|            1|54.15000000000000...|       4363|      473|    1076|      5394|\n",
      "|2021-01-24|            8|235.9900000000000...|       6546|     5383|    3049|        79|\n",
      "|2021-08-20|            7|185.3700000000000...|       3686|      988|     812|      5096|\n",
      "+----------+-------------+--------------------+-----------+---------+--------+----------+\n",
      "only showing top 20 rows\n",
      "\n"
     ]
    },
    {
     "data": {
      "text/plain": [
       "10000"
      ]
     },
     "execution_count": 63,
     "metadata": {},
     "output_type": "execute_result"
    }
   ],
   "source": [
    "fact_sales.show()\n",
    "fact_sales.count()"
   ]
  },
  {
   "cell_type": "code",
   "execution_count": 64,
   "id": "f19d3e03-3a19-420b-8a74-5ada7800b734",
   "metadata": {},
   "outputs": [],
   "source": [
    "write_table(fact_sales, \"fact_sales\")"
   ]
  },
  {
   "cell_type": "markdown",
   "id": "07c3b6c9-bb12-43ce-afb6-a2500f776f3f",
   "metadata": {},
   "source": [
    "## Работа с ClickHouse "
   ]
  },
  {
   "cell_type": "code",
   "execution_count": 65,
   "id": "d222b0b4-4531-476e-a113-f4b0a1918844",
   "metadata": {},
   "outputs": [],
   "source": [
    "ch_url = \"jdbc:clickhouse://clickhouse:8123/reports\"\n",
    "ch_properties = {\n",
    "    \"user\": \"clickhouse\",\n",
    "    \"password\": \"password\",\n",
    "    \"driver\": \"com.clickhouse.jdbc.ClickHouseDriver\"\n",
    "}"
   ]
  },
  {
   "cell_type": "code",
   "execution_count": 66,
   "id": "42d1a6ac-5fc1-4b8a-b136-37d6dae46e7a",
   "metadata": {},
   "outputs": [],
   "source": [
    "from pyspark.sql.window import Window"
   ]
  },
  {
   "cell_type": "code",
   "execution_count": 67,
   "id": "ef0b852f-23b7-4864-8506-d0f7249361f3",
   "metadata": {},
   "outputs": [],
   "source": [
    "tables = [\n",
    "    \"dim_country\", \"dim_city\", \"dim_pet_type\", \"dim_pet_breed\", \"dim_pet_category\",\n",
    "    \"dim_pet\", \"dim_customer\", \"dim_seller\", \"dim_supplier\", \"dim_store\",\n",
    "    \"dim_product_name\", \"dim_product_category\", \"dim_brand\", \"dim_material\",\n",
    "    \"dim_color\", \"dim_size\", \"dim_product\", \"fact_sales\"\n",
    "]\n",
    "\n",
    "dataframes = {}\n",
    "for table in tables:\n",
    "    dataframes[table] = read_table(table)\n",
    "\n",
    "fact_sales = dataframes[\"fact_sales\"]\n",
    "dim_country = dataframes[\"dim_country\"]\n",
    "dim_city = dataframes[\"dim_city\"]\n",
    "dim_customer = dataframes[\"dim_customer\"]\n",
    "dim_product = dataframes[\"dim_product\"]\n",
    "dim_product_name = dataframes[\"dim_product_name\"]\n",
    "dim_product_category = dataframes[\"dim_product_category\"]\n",
    "dim_store = dataframes[\"dim_store\"]\n",
    "dim_supplier = dataframes[\"dim_supplier\"]"
   ]
  },
  {
   "cell_type": "markdown",
   "id": "22e85b05-bbaf-42c1-8837-02bae3aad270",
   "metadata": {},
   "source": [
    "### 1. Витрин продаж по продуктам"
   ]
  },
  {
   "cell_type": "markdown",
   "id": "3670f6c5-7618-472d-912d-ff864ed149f8",
   "metadata": {},
   "source": [
    "Основная витрина"
   ]
  },
  {
   "cell_type": "code",
   "execution_count": 68,
   "id": "1dd33fb3-a9d9-4ace-9b34-c337b4d46fbf",
   "metadata": {},
   "outputs": [
    {
     "name": "stdout",
     "output_type": "stream",
     "text": [
      "+----------+------------+-------------+-----------+-------------+------+-------+\n",
      "|product_id|product_name|category_name|total_sales|total_revenue|rating|reviews|\n",
      "+----------+------------+-------------+-----------+-------------+------+-------+\n",
      "|      6397|   Bird Cage|         Cage|          2|       160.81|  1.30|     36|\n",
      "|      1088|   Bird Cage|         Cage|          8|       189.19|  4.50|    284|\n",
      "|      4900|   Bird Cage|         Cage|          4|       262.44|  3.70|    457|\n",
      "|      1342|   Bird Cage|         Cage|          3|       289.86|  1.30|    165|\n",
      "|      6620|   Bird Cage|         Cage|          2|       497.83|  3.30|    195|\n",
      "|      4519|   Bird Cage|         Cage|          6|       127.03|  2.90|    536|\n",
      "|      3794|   Bird Cage|         Cage|          2|       243.54|  4.50|    673|\n",
      "|      1645|   Bird Cage|         Cage|         10|        20.78|  4.70|    876|\n",
      "|      5803|   Bird Cage|         Cage|          8|       116.87|  1.60|    171|\n",
      "|      2142|   Bird Cage|         Cage|          3|        42.79|  3.40|    375|\n",
      "|      8932|   Bird Cage|         Cage|          5|       222.63|  4.00|     65|\n",
      "|      2999|   Bird Cage|         Cage|          2|        72.46|  1.20|    974|\n",
      "|      9564|   Bird Cage|         Cage|          8|        32.94|  4.30|      0|\n",
      "|      5614|   Bird Cage|         Cage|          8|       186.47|  1.20|     41|\n",
      "|      8928|   Bird Cage|         Cage|          1|       487.23|  3.70|     43|\n",
      "|      3698|   Bird Cage|         Cage|          6|       145.45|  3.20|    861|\n",
      "|      1507|   Bird Cage|         Cage|          6|       218.68|  3.70|    722|\n",
      "|      1143|   Bird Cage|         Cage|          8|        58.46|  3.10|    186|\n",
      "|      9162|   Bird Cage|         Cage|          2|       443.38|  3.10|    118|\n",
      "|      5173|   Bird Cage|         Cage|          7|       156.43|  2.60|    358|\n",
      "+----------+------------+-------------+-----------+-------------+------+-------+\n",
      "only showing top 20 rows\n",
      "\n"
     ]
    }
   ],
   "source": [
    "product_sales = fact_sales.groupBy(\"product_id\").agg(\n",
    "    F.sum(\"sale_quantity\").alias(\"total_sales\"),\n",
    "    F.sum(\"sale_total_price\").alias(\"total_revenue\")\n",
    ")\n",
    "\n",
    "product_mart = (\n",
    "    product_sales\n",
    "    .join(dim_product, \"product_id\")\n",
    "    .join(dim_product_name, \"product_name_id\")\n",
    "    .join(dim_product_category, \"category_id\")\n",
    "    .select(\n",
    "        \"product_id\",\n",
    "        \"product_name\",\n",
    "        \"category_name\",\n",
    "        \"total_sales\",\n",
    "        \"total_revenue\",\n",
    "        \"rating\",\n",
    "        \"reviews\"\n",
    "    )\n",
    ")\n",
    "\n",
    "product_mart.show()\n",
    "\n",
    "product_mart.write \\\n",
    "    .format(\"jdbc\") \\\n",
    "    .option(\"url\", ch_url) \\\n",
    "    .option(\"user\", ch_properties[\"user\"]) \\\n",
    "    .option(\"password\", ch_properties[\"password\"]) \\\n",
    "    .option(\"driver\", \"com.clickhouse.jdbc.ClickHouseDriver\") \\\n",
    "    .option(\"dbtable\", \"product_sales_mart\") \\\n",
    "    .option(\"createTableOptions\", \"ENGINE = MergeTree ORDER BY (category_name, product_id)\") \\\n",
    "    .mode(\"overwrite\") \\\n",
    "    .save()"
   ]
  },
  {
   "cell_type": "markdown",
   "id": "690a566a-2742-4e45-b3ed-11caf5ded7a9",
   "metadata": {},
   "source": [
    "Топ-10 самых продаваемых продуктов"
   ]
  },
  {
   "cell_type": "code",
   "execution_count": 69,
   "id": "5fad4df3-8d9e-42d3-9f3e-30c59b45de34",
   "metadata": {},
   "outputs": [
    {
     "name": "stdout",
     "output_type": "stream",
     "text": [
      "+----------+----------+------------+-----------+-------------+\n",
      "|sales_rank|product_id|product_name|total_sales|total_revenue|\n",
      "+----------+----------+------------+-----------+-------------+\n",
      "|         1|      9249|   Bird Cage|         10|       256.23|\n",
      "|         2|      9236|   Bird Cage|         10|       468.60|\n",
      "|         3|      4876|   Bird Cage|         10|       340.15|\n",
      "|         4|      7092|   Bird Cage|         10|       117.82|\n",
      "|         5|      4538|   Bird Cage|         10|        20.01|\n",
      "|         6|      9721|   Bird Cage|         10|       415.87|\n",
      "|         7|      4036|   Bird Cage|         10|       150.98|\n",
      "|         8|      1645|   Bird Cage|         10|        20.78|\n",
      "|         9|      9126|   Bird Cage|         10|       341.01|\n",
      "|        10|      6068|   Bird Cage|         10|       209.79|\n",
      "+----------+----------+------------+-----------+-------------+\n",
      "\n"
     ]
    }
   ],
   "source": [
    "top_10_products = (\n",
    "    product_mart\n",
    "    .withColumn(\"sales_rank\", F.row_number().over(Window.orderBy(F.desc(\"total_sales\"))))\n",
    "    .filter(F.col(\"sales_rank\") <= 10)\n",
    "    .select(\"sales_rank\", \"product_id\", \"product_name\", \"total_sales\", \"total_revenue\")\n",
    ")\n",
    "\n",
    "top_10_products.show()\n",
    "\n",
    "top_10_products.write \\\n",
    "    .format(\"jdbc\") \\\n",
    "    .option(\"url\", ch_url) \\\n",
    "    .option(\"user\", ch_properties[\"user\"]) \\\n",
    "    .option(\"password\", ch_properties[\"password\"]) \\\n",
    "    .option(\"driver\", \"com.clickhouse.jdbc.ClickHouseDriver\") \\\n",
    "    .option(\"dbtable\", \"top_10_products\") \\\n",
    "    .option(\"createTableOptions\", \"ENGINE = MergeTree ORDER BY sales_rank\") \\\n",
    "    .mode(\"overwrite\") \\\n",
    "    .save()"
   ]
  },
  {
   "cell_type": "markdown",
   "id": "f058ff25-9afc-4aeb-9595-5229b7650011",
   "metadata": {},
   "source": [
    "Общая выручка по категориям продуктов"
   ]
  },
  {
   "cell_type": "code",
   "execution_count": 70,
   "id": "f12b37b0-fd3f-4799-b6d6-9d0184d33262",
   "metadata": {},
   "outputs": [
    {
     "name": "stdout",
     "output_type": "stream",
     "text": [
      "+-------------+----------------+-------------------+-------------+\n",
      "|category_name|category_revenue|total_products_sold|revenue_share|\n",
      "+-------------+----------------+-------------------+-------------+\n",
      "|         Cage|       831117.94|              18057|     0.328524|\n",
      "|         Food|       830632.55|              17931|     0.328332|\n",
      "|          Toy|       868101.63|              18635|     0.343143|\n",
      "+-------------+----------------+-------------------+-------------+\n",
      "\n"
     ]
    }
   ],
   "source": [
    "category_revenue = (\n",
    "    product_mart\n",
    "    .groupBy(\"category_name\")\n",
    "    .agg(\n",
    "        F.sum(\"total_revenue\").alias(\"category_revenue\"),\n",
    "        F.sum(\"total_sales\").alias(\"total_products_sold\")\n",
    "    )\n",
    "    .withColumn(\"revenue_share\", F.col(\"category_revenue\") / F.sum(\"category_revenue\").over(Window.partitionBy()))\n",
    ")\n",
    "\n",
    "category_revenue.show()\n",
    "\n",
    "category_revenue.write \\\n",
    "    .format(\"jdbc\") \\\n",
    "    .option(\"url\", ch_url) \\\n",
    "    .option(\"user\", ch_properties[\"user\"]) \\\n",
    "    .option(\"password\", ch_properties[\"password\"]) \\\n",
    "    .option(\"driver\", \"com.clickhouse.jdbc.ClickHouseDriver\") \\\n",
    "    .option(\"dbtable\", \"product_category_revenue\") \\\n",
    "    .option(\"createTableOptions\", \"ENGINE = MergeTree ORDER BY category_revenue\") \\\n",
    "    .option(\"driver\", \"com.clickhouse.jdbc.ClickHouseDriver\") \\\n",
    "    .mode(\"overwrite\") \\\n",
    "    .save()"
   ]
  },
  {
   "cell_type": "markdown",
   "id": "f5ecbcc0-6a38-4ced-a61d-6516b886bca1",
   "metadata": {},
   "source": [
    "Средний рейтинг и количество отзывов для каждого продукта."
   ]
  },
  {
   "cell_type": "code",
   "execution_count": 71,
   "id": "a0fcb741-83b6-46cf-8ea8-b55bf5b69f00",
   "metadata": {},
   "outputs": [
    {
     "name": "stdout",
     "output_type": "stream",
     "text": [
      "+------------+----------+-------------+\n",
      "|product_name|avg_rating|total_reviews|\n",
      "+------------+----------+-------------+\n",
      "|    Dog Food|  3.018299|      1653413|\n",
      "|     Cat Toy|  3.006860|      1676222|\n",
      "|   Bird Cage|  3.000149|      1682260|\n",
      "+------------+----------+-------------+\n",
      "\n"
     ]
    }
   ],
   "source": [
    "product_ratings = (\n",
    "    product_mart\n",
    "    .groupBy(\"product_name\")\n",
    "    .agg(\n",
    "        F.avg(\"rating\").alias(\"avg_rating\"),\n",
    "        F.sum(\"reviews\").alias(\"total_reviews\")\n",
    "    )\n",
    "    .orderBy(F.desc(\"avg_rating\"))\n",
    ")\n",
    "\n",
    "product_ratings.show()\n",
    "\n",
    "product_ratings.write \\\n",
    "    .format(\"jdbc\") \\\n",
    "    .option(\"url\", ch_url) \\\n",
    "    .option(\"user\", ch_properties[\"user\"]) \\\n",
    "    .option(\"password\", ch_properties[\"password\"]) \\\n",
    "    .option(\"driver\", \"com.clickhouse.jdbc.ClickHouseDriver\") \\\n",
    "    .option(\"dbtable\", \"product_ratings\") \\\n",
    "    .option(\"createTableOptions\", \"ENGINE = MergeTree ORDER BY avg_rating\") \\\n",
    "    .option(\"driver\", \"com.clickhouse.jdbc.ClickHouseDriver\") \\\n",
    "    .mode(\"overwrite\") \\\n",
    "    .save()"
   ]
  },
  {
   "cell_type": "markdown",
   "id": "e5cb42e8-5a8b-4612-b130-63ed9dc23cb0",
   "metadata": {},
   "source": [
    "### 2. Витрина продаж по клиентам"
   ]
  },
  {
   "cell_type": "markdown",
   "id": "bdcf9bce-722b-439a-a90f-d9fef59a0f44",
   "metadata": {},
   "source": [
    "Основная витрина"
   ]
  },
  {
   "cell_type": "code",
   "execution_count": 72,
   "id": "0dc6ff32-d724-43bc-9413-fc161f845450",
   "metadata": {},
   "outputs": [
    {
     "name": "stdout",
     "output_type": "stream",
     "text": [
      "+-----------+-------------------+---+--------------------+-----------+-----------+------------+---------------+\n",
      "|customer_id|      customer_name|age|               email|    country|total_spent|total_orders|avg_order_value|\n",
      "+-----------+-------------------+---+--------------------+-----------+-----------+------------+---------------+\n",
      "|       6336|         Shep Dyson| 30|lcarabinedg@tinyp...|  Indonesia|     287.43|           1|     287.430000|\n",
      "|       3794|     Carlyle Crosen| 30|dfellow3j@cbsnews...|     Mexico|     218.06|           1|     218.060000|\n",
      "|       5803|  Pearline Northage| 49|veakleycp@cyberch...|    Morocco|     184.43|           1|     184.430000|\n",
      "|       6397|        Kaile Rhyme| 22|  vbingallis@mlb.com|      China|     146.45|           1|     146.450000|\n",
      "|       2866|    Mikkel Tabourel| 75|anutley5s@newsvin...|     Poland|     143.76|           1|     143.760000|\n",
      "|       7554| Jermaine Loiterton| 60|cmaypeseu@cafepre...|Afghanistan|     287.31|           1|     287.310000|\n",
      "|       1088|Clay Van Schafflaer| 33| mbarhamjq@wikia.com|     France|      95.14|           1|      95.140000|\n",
      "|       7754|          Urson Ivy| 72|emckean24@fastcom...|     Panama|     457.36|           1|     457.360000|\n",
      "|       7833|       Donni Boxall| 33|      rbinnerg1@t.co|  Indonesia|     272.64|           1|     272.640000|\n",
      "|       4818|      Kaycee Jeanet| 71|  gsoeiro3i@wisc.edu|      China|     104.11|           1|     104.110000|\n",
      "|       2142|      Courtnay Fice| 20|fglancey9u@delici...|     Sweden|      79.03|           1|      79.030000|\n",
      "|       9427|      Dosi Harragin| 69|khinksg3@sitemete...|  Indonesia|      82.75|           1|      82.750000|\n",
      "|       2122|        Pauly Maton| 46| tschulz5l@unblog.fr|Philippines|      32.44|           1|      32.440000|\n",
      "|       9465|   Mariele Mangenet| 79|  hamort5q@imgur.com|  Indonesia|     333.70|           1|     333.700000|\n",
      "|       6357|         Nert Doull| 84|cdessonn3@shareas...|    Ukraine|     172.23|           1|     172.230000|\n",
      "|       3997|       Brigit Berka| 84|olacelettdw@oracl...|     Russia|     409.46|           1|     409.460000|\n",
      "|       4519|   Addy Brownscombe| 63|dduffy1d@feedburn...|Netherlands|     476.65|           1|     476.650000|\n",
      "|        148|      Harold Delhay| 42|jveversgm@uol.com.br|Philippines|     412.76|           1|     412.760000|\n",
      "|       1238|       Kippy Fillan| 58|kyoselevitchq6@ma...|      Italy|     317.83|           1|     317.830000|\n",
      "|       7880|    Livvie Mountjoy| 56|    shacon3r@npr.org|  Indonesia|      64.11|           1|      64.110000|\n",
      "+-----------+-------------------+---+--------------------+-----------+-----------+------------+---------------+\n",
      "only showing top 20 rows\n",
      "\n"
     ]
    }
   ],
   "source": [
    "customer_sales = fact_sales.groupBy(\"customer_id\").agg(\n",
    "    F.sum(\"sale_total_price\").alias(\"total_spent\"),\n",
    "    F.count(\"sale_id\").alias(\"total_orders\"),\n",
    "    F.avg(\"sale_total_price\").alias(\"avg_order_value\")\n",
    ")\n",
    "\n",
    "customer_mart = (\n",
    "    customer_sales\n",
    "    .join(dim_customer, \"customer_id\")\n",
    "    .join(dim_country, dim_customer.country_id == dim_country.country_id)\n",
    "    .select(\n",
    "        \"customer_id\",\n",
    "        F.concat(dim_customer[\"first_name\"], F.lit(\" \"), dim_customer[\"last_name\"]).alias(\"customer_name\"),\n",
    "        \"age\",\n",
    "        \"email\",\n",
    "        dim_country[\"country_name\"].alias(\"country\"),\n",
    "        \"total_spent\",\n",
    "        \"total_orders\",\n",
    "        \"avg_order_value\"\n",
    "    )\n",
    ")\n",
    "\n",
    "customer_mart.show()\n",
    "\n",
    "customer_mart.write \\\n",
    "    .format(\"jdbc\") \\\n",
    "    .option(\"url\", ch_url) \\\n",
    "    .option(\"user\", ch_properties[\"user\"]) \\\n",
    "    .option(\"password\", ch_properties[\"password\"]) \\\n",
    "    .option(\"driver\", \"com.clickhouse.jdbc.ClickHouseDriver\") \\\n",
    "    .option(\"dbtable\", \"customer_sales_mart\") \\\n",
    "    .option(\"createTableOptions\", \"ENGINE = MergeTree ORDER BY country\") \\\n",
    "    .option(\"driver\", \"com.clickhouse.jdbc.ClickHouseDriver\") \\\n",
    "    .mode(\"overwrite\") \\\n",
    "    .save()"
   ]
  },
  {
   "cell_type": "markdown",
   "id": "bbd208b8-63ee-4f5c-ac05-5204c35ae197",
   "metadata": {},
   "source": [
    "Топ-10 клиентов с наибольшей общей суммой покупок"
   ]
  },
  {
   "cell_type": "code",
   "execution_count": 73,
   "id": "3095f796-7e15-48a7-bb02-c63413544daf",
   "metadata": {},
   "outputs": [
    {
     "name": "stdout",
     "output_type": "stream",
     "text": [
      "+----------+-----------+-----------------+---------+-----------+\n",
      "|spent_rank|customer_id|    customer_name|  country|total_spent|\n",
      "+----------+-----------+-----------------+---------+-----------+\n",
      "|         1|       8091|    Gus Hartshorn|  Albania|     499.85|\n",
      "|         2|       3017|     Hayes McKain| Portugal|     499.80|\n",
      "|         3|       8328|        Ava Lomas|    China|     499.76|\n",
      "|         4|       6816|      Dawna Impey|Indonesia|     499.76|\n",
      "|         5|       3010|Lavinia Horsburgh|   Poland|     499.73|\n",
      "|         6|       9610|  Dame Auchinleck|Indonesia|     499.71|\n",
      "|         7|       1596|  Isahella Colley|   Russia|     499.69|\n",
      "|         8|       9493|  Sisely Bonevant|    China|     499.62|\n",
      "|         9|        251|     Nicky Lattie|   Mexico|     499.62|\n",
      "|        10|       6798|       Eran Cotes|    China|     499.59|\n",
      "+----------+-----------+-----------------+---------+-----------+\n",
      "\n"
     ]
    }
   ],
   "source": [
    "top_10_customers = (\n",
    "    customer_mart\n",
    "    .withColumn(\"spent_rank\", F.row_number().over(Window.orderBy(F.desc(\"total_spent\"))))\n",
    "    .filter(F.col(\"spent_rank\") <= 10)\n",
    "    .select(\"spent_rank\", \"customer_id\", \"customer_name\", \"country\", \"total_spent\")\n",
    ")\n",
    "\n",
    "top_10_customers.show()\n",
    "\n",
    "top_10_customers.write \\\n",
    "    .format(\"jdbc\") \\\n",
    "    .option(\"url\", ch_url) \\\n",
    "    .option(\"user\", ch_properties[\"user\"]) \\\n",
    "    .option(\"password\", ch_properties[\"password\"]) \\\n",
    "    .option(\"driver\", \"com.clickhouse.jdbc.ClickHouseDriver\") \\\n",
    "    .option(\"dbtable\", \"top_10_customers\") \\\n",
    "    .option(\"createTableOptions\", \"ENGINE = MergeTree ORDER BY spent_rank\") \\\n",
    "    .option(\"driver\", \"com.clickhouse.jdbc.ClickHouseDriver\") \\\n",
    "    .mode(\"overwrite\") \\\n",
    "    .save()"
   ]
  },
  {
   "cell_type": "markdown",
   "id": "f39aac4d-b619-4577-ab9a-6d94d7f76673",
   "metadata": {},
   "source": [
    "Распределение клиентов по странам"
   ]
  },
  {
   "cell_type": "code",
   "execution_count": 74,
   "id": "82be16ad-5247-4dea-9c71-022397c34ef4",
   "metadata": {},
   "outputs": [
    {
     "name": "stdout",
     "output_type": "stream",
     "text": [
      "+--------------+--------------+-----------+\n",
      "|       country|customer_count|total_spent|\n",
      "+--------------+--------------+-----------+\n",
      "|         China|          1738|  445815.35|\n",
      "|     Indonesia|          1174|  296495.01|\n",
      "|        Russia|           628|  154008.86|\n",
      "|   Philippines|           555|  140433.74|\n",
      "|        Brazil|           385|  100264.93|\n",
      "|      Portugal|           336|   80297.91|\n",
      "|        Poland|           332|   81038.37|\n",
      "|        France|           322|   81675.90|\n",
      "|        Sweden|           264|   65689.69|\n",
      "| United States|           211|   51954.32|\n",
      "|         Japan|           201|   51784.90|\n",
      "|       Ukraine|           155|   39450.65|\n",
      "|      Colombia|           152|   34772.97|\n",
      "|Czech Republic|           140|   38333.13|\n",
      "|        Canada|           137|   35511.14|\n",
      "|      Thailand|           126|   31092.02|\n",
      "|          Peru|           123|   28575.53|\n",
      "|        Greece|           116|   30673.05|\n",
      "|     Argentina|           113|   26739.31|\n",
      "|       Nigeria|           103|   26004.22|\n",
      "+--------------+--------------+-----------+\n",
      "only showing top 20 rows\n",
      "\n"
     ]
    }
   ],
   "source": [
    "country_distribution = (\n",
    "    customer_mart\n",
    "    .groupBy(\"country\")\n",
    "    .agg(\n",
    "        F.count(\"customer_id\").alias(\"customer_count\"),\n",
    "        F.sum(\"total_spent\").alias(\"total_spent\")\n",
    "    )\n",
    "    .orderBy(F.desc(\"customer_count\"))\n",
    ")\n",
    "\n",
    "country_distribution.show()\n",
    "\n",
    "country_distribution.write \\\n",
    "    .format(\"jdbc\") \\\n",
    "    .option(\"url\", ch_url) \\\n",
    "    .option(\"user\", ch_properties[\"user\"]) \\\n",
    "    .option(\"password\", ch_properties[\"password\"]) \\\n",
    "    .option(\"driver\", \"com.clickhouse.jdbc.ClickHouseDriver\") \\\n",
    "    .option(\"dbtable\", \"customer_country_distribution\") \\\n",
    "    .option(\"createTableOptions\", \"ENGINE = MergeTree ORDER BY customer_count\") \\\n",
    "    .option(\"driver\", \"com.clickhouse.jdbc.ClickHouseDriver\") \\\n",
    "    .mode(\"overwrite\") \\\n",
    "    .save()"
   ]
  },
  {
   "cell_type": "markdown",
   "id": "b022297a-92a9-4f01-a66f-7d804057b73d",
   "metadata": {},
   "source": [
    "Средний чек для каждого клиента"
   ]
  },
  {
   "cell_type": "code",
   "execution_count": 75,
   "id": "3e0b4e07-d9c7-4a68-8a43-20efd529e44d",
   "metadata": {},
   "outputs": [
    {
     "name": "stdout",
     "output_type": "stream",
     "text": [
      "+-----------+-------------------+---------------+------------+-----------+------------------+\n",
      "|customer_id|      customer_name|avg_order_value|total_orders|total_spent|avg_check_category|\n",
      "+-----------+-------------------+---------------+------------+-----------+------------------+\n",
      "|       6336|         Shep Dyson|     287.430000|           1|     287.43|              High|\n",
      "|       3794|     Carlyle Crosen|     218.060000|           1|     218.06|              High|\n",
      "|       5803|  Pearline Northage|     184.430000|           1|     184.43|            Medium|\n",
      "|       6397|        Kaile Rhyme|     146.450000|           1|     146.45|            Medium|\n",
      "|       2866|    Mikkel Tabourel|     143.760000|           1|     143.76|            Medium|\n",
      "|       7554| Jermaine Loiterton|     287.310000|           1|     287.31|              High|\n",
      "|       1088|Clay Van Schafflaer|      95.140000|           1|      95.14|          Standard|\n",
      "|       7754|          Urson Ivy|     457.360000|           1|     457.36|              High|\n",
      "|       7833|       Donni Boxall|     272.640000|           1|     272.64|              High|\n",
      "|       4818|      Kaycee Jeanet|     104.110000|           1|     104.11|            Medium|\n",
      "|       2142|      Courtnay Fice|      79.030000|           1|      79.03|          Standard|\n",
      "|       9427|      Dosi Harragin|      82.750000|           1|      82.75|          Standard|\n",
      "|       2122|        Pauly Maton|      32.440000|           1|      32.44|          Standard|\n",
      "|       9465|   Mariele Mangenet|     333.700000|           1|     333.70|              High|\n",
      "|       6357|         Nert Doull|     172.230000|           1|     172.23|            Medium|\n",
      "|       3997|       Brigit Berka|     409.460000|           1|     409.46|              High|\n",
      "|       4519|   Addy Brownscombe|     476.650000|           1|     476.65|              High|\n",
      "|        148|      Harold Delhay|     412.760000|           1|     412.76|              High|\n",
      "|       1238|       Kippy Fillan|     317.830000|           1|     317.83|              High|\n",
      "|       7880|    Livvie Mountjoy|      64.110000|           1|      64.11|          Standard|\n",
      "+-----------+-------------------+---------------+------------+-----------+------------------+\n",
      "only showing top 20 rows\n",
      "\n"
     ]
    }
   ],
   "source": [
    "customer_avg_check = (\n",
    "    customer_mart\n",
    "    .select(\n",
    "        \"customer_id\",\n",
    "        \"customer_name\",\n",
    "        \"avg_order_value\",\n",
    "        \"total_orders\",\n",
    "        \"total_spent\"\n",
    "    )\n",
    "    .withColumn(\"avg_check_category\",\n",
    "                F.when(F.col(\"avg_order_value\") >= 500, \"VIP\")\n",
    "                 .when(F.col(\"avg_order_value\") >= 200, \"High\")\n",
    "                 .when(F.col(\"avg_order_value\") >= 100, \"Medium\")\n",
    "                 .otherwise(\"Standard\"))\n",
    ")\n",
    "\n",
    "customer_avg_check.show()\n",
    "\n",
    "customer_avg_check.write \\\n",
    "    .format(\"jdbc\") \\\n",
    "    .option(\"url\", ch_url) \\\n",
    "    .option(\"user\", ch_properties[\"user\"]) \\\n",
    "    .option(\"password\", ch_properties[\"password\"]) \\\n",
    "    .option(\"driver\", \"com.clickhouse.jdbc.ClickHouseDriver\") \\\n",
    "    .option(\"dbtable\", \"customer_avg_check\") \\\n",
    "    .option(\"createTableOptions\", \"ENGINE = MergeTree ORDER BY (avg_check_category, avg_order_value)\") \\\n",
    "    .option(\"driver\", \"com.clickhouse.jdbc.ClickHouseDriver\") \\\n",
    "    .mode(\"overwrite\") \\\n",
    "    .save()"
   ]
  },
  {
   "cell_type": "markdown",
   "id": "486bb465-caf4-46c7-a409-3a5dba893571",
   "metadata": {},
   "source": [
    "### 3. Витрина продаж по времени"
   ]
  },
  {
   "cell_type": "markdown",
   "id": "17936c00-b7d9-4e1b-8f4e-f73807a6a8a0",
   "metadata": {},
   "source": [
    "Основная витрина"
   ]
  },
  {
   "cell_type": "code",
   "execution_count": 76,
   "id": "af82b02d-6d94-45fb-873a-3101f5c07f77",
   "metadata": {},
   "outputs": [
    {
     "name": "stdout",
     "output_type": "stream",
     "text": [
      "+----+-------+-----+-------------+------------+----------------+\n",
      "|year|quarter|month|total_revenue|total_orders|total_items_sold|\n",
      "+----+-------+-----+-------------+------------+----------------+\n",
      "|2021|      1|    1|    224158.54|         874|            4856|\n",
      "|2021|      1|    2|    192348.31|         739|            4070|\n",
      "|2021|      1|    3|    207282.20|         843|            4561|\n",
      "|2021|      2|    4|    206592.82|         837|            4564|\n",
      "|2021|      2|    5|    211764.86|         828|            4451|\n",
      "|2021|      2|    6|    215042.80|         822|            4438|\n",
      "|2021|      3|    7|    220496.51|         858|            4750|\n",
      "|2021|      3|    8|    221275.78|         897|            4818|\n",
      "|2021|      3|    9|    210623.43|         839|            4507|\n",
      "|2021|      4|   10|    228743.32|         892|            4976|\n",
      "|2021|      4|   11|    200154.69|         801|            4297|\n",
      "|2021|      4|   12|    191368.86|         770|            4335|\n",
      "+----+-------+-----+-------------+------------+----------------+\n",
      "\n"
     ]
    }
   ],
   "source": [
    "time_sales = fact_sales.withColumn(\"year\", F.year(\"sale_date\")) \\\n",
    "    .withColumn(\"month\", F.month(\"sale_date\")) \\\n",
    "    .withColumn(\"quarter\", F.quarter(\"sale_date\"))\n",
    "\n",
    "time_mart = time_sales.groupBy(\"year\", \"quarter\", \"month\").agg(\n",
    "    F.sum(\"sale_total_price\").alias(\"total_revenue\"),\n",
    "    F.countDistinct(\"sale_id\").alias(\"total_orders\"),\n",
    "    F.sum(\"sale_quantity\").alias(\"total_items_sold\")\n",
    ").orderBy(\"year\", \"month\")\n",
    "\n",
    "time_mart.show()\n",
    "\n",
    "time_mart.write \\\n",
    "    .format(\"jdbc\") \\\n",
    "    .option(\"url\", ch_url) \\\n",
    "    .option(\"user\", ch_properties[\"user\"]) \\\n",
    "    .option(\"password\", ch_properties[\"password\"]) \\\n",
    "    .option(\"driver\", \"com.clickhouse.jdbc.ClickHouseDriver\") \\\n",
    "    .option(\"dbtable\", \"time_sales_mart\") \\\n",
    "    .option(\"createTableOptions\", \"ENGINE = MergeTree ORDER BY (year, month)\") \\\n",
    "    .option(\"driver\", \"com.clickhouse.jdbc.ClickHouseDriver\") \\\n",
    "    .mode(\"overwrite\") \\\n",
    "    .save()"
   ]
  },
  {
   "cell_type": "markdown",
   "id": "67bbd524-73c8-483d-8267-89cb7a8f9c76",
   "metadata": {},
   "source": [
    "Месячные и годовые тренды продаж"
   ]
  },
  {
   "cell_type": "code",
   "execution_count": 77,
   "id": "a8f1dd4a-1b6a-4d29-9773-52cb73d458c5",
   "metadata": {},
   "outputs": [
    {
     "name": "stdout",
     "output_type": "stream",
     "text": [
      "+----+-----+---------------+--------------+------------------+\n",
      "|year|month|monthly_revenue|monthly_orders|monthly_items_sold|\n",
      "+----+-----+---------------+--------------+------------------+\n",
      "|2021|    1|      224158.54|           874|              4856|\n",
      "|2021|    2|      192348.31|           739|              4070|\n",
      "|2021|    3|      207282.20|           843|              4561|\n",
      "|2021|    4|      206592.82|           837|              4564|\n",
      "|2021|    5|      211764.86|           828|              4451|\n",
      "|2021|    6|      215042.80|           822|              4438|\n",
      "|2021|    7|      220496.51|           858|              4750|\n",
      "|2021|    8|      221275.78|           897|              4818|\n",
      "|2021|    9|      210623.43|           839|              4507|\n",
      "|2021|   10|      228743.32|           892|              4976|\n",
      "|2021|   11|      200154.69|           801|              4297|\n",
      "|2021|   12|      191368.86|           770|              4335|\n",
      "+----+-----+---------------+--------------+------------------+\n",
      "\n"
     ]
    }
   ],
   "source": [
    "monthly_trends = time_sales.groupBy(\"year\", \"month\").agg(\n",
    "    F.sum(\"sale_total_price\").alias(\"monthly_revenue\"),\n",
    "    F.countDistinct(\"sale_id\").alias(\"monthly_orders\"),\n",
    "    F.sum(\"sale_quantity\").alias(\"monthly_items_sold\")\n",
    ").orderBy(\"year\", \"month\")\n",
    "\n",
    "monthly_trends.show()\n",
    "\n",
    "monthly_trends.write \\\n",
    "    .format(\"jdbc\") \\\n",
    "    .option(\"url\", ch_url) \\\n",
    "    .option(\"user\", ch_properties[\"user\"]) \\\n",
    "    .option(\"password\", ch_properties[\"password\"]) \\\n",
    "    .option(\"driver\", \"com.clickhouse.jdbc.ClickHouseDriver\") \\\n",
    "    .option(\"dbtable\", \"monthly_sales_trends\") \\\n",
    "    .option(\"createTableOptions\", \"ENGINE = MergeTree ORDER BY (year, month)\") \\\n",
    "    .option(\"driver\", \"com.clickhouse.jdbc.ClickHouseDriver\") \\\n",
    "    .mode(\"overwrite\") \\\n",
    "    .save()"
   ]
  },
  {
   "cell_type": "code",
   "execution_count": 78,
   "id": "790751c1-4aa4-466b-9db7-f99a16cab41a",
   "metadata": {},
   "outputs": [
    {
     "name": "stdout",
     "output_type": "stream",
     "text": [
      "+----+--------------+-------------+-----------------+\n",
      "|year|yearly_revenue|yearly_orders|yearly_items_sold|\n",
      "+----+--------------+-------------+-----------------+\n",
      "|2021|    2529852.12|        10000|            54623|\n",
      "+----+--------------+-------------+-----------------+\n",
      "\n"
     ]
    }
   ],
   "source": [
    "yearly_trends = time_sales.groupBy(\"year\").agg(\n",
    "    F.sum(\"sale_total_price\").alias(\"yearly_revenue\"),\n",
    "    F.countDistinct(\"sale_id\").alias(\"yearly_orders\"),\n",
    "    F.sum(\"sale_quantity\").alias(\"yearly_items_sold\")\n",
    ").orderBy(\"year\")\n",
    "\n",
    "yearly_trends.show()\n",
    "\n",
    "yearly_trends.write \\\n",
    "    .format(\"jdbc\") \\\n",
    "    .option(\"url\", ch_url) \\\n",
    "    .option(\"user\", ch_properties[\"user\"]) \\\n",
    "    .option(\"password\", ch_properties[\"password\"]) \\\n",
    "    .option(\"driver\", \"com.clickhouse.jdbc.ClickHouseDriver\") \\\n",
    "    .option(\"dbtable\", \"yearly_sales_trends\") \\\n",
    "    .option(\"createTableOptions\", \"ENGINE = MergeTree ORDER BY year\") \\\n",
    "    .option(\"driver\", \"com.clickhouse.jdbc.ClickHouseDriver\") \\\n",
    "    .mode(\"overwrite\") \\\n",
    "    .save()"
   ]
  },
  {
   "cell_type": "markdown",
   "id": "a573f9c7-7ad1-4a1b-8d84-958256261419",
   "metadata": {},
   "source": [
    "Сравнение выручки за разные периоды"
   ]
  },
  {
   "cell_type": "code",
   "execution_count": 79,
   "id": "84e82fbf-d64a-42bb-9033-e3030f735582",
   "metadata": {},
   "outputs": [
    {
     "name": "stdout",
     "output_type": "stream",
     "text": [
      "+----+-------+-----+---------+------------------+------------------+-----------------+--------------+\n",
      "|year|quarter|month|  revenue|prev_month_revenue|monthly_growth_pct|quarterly_revenue|yearly_revenue|\n",
      "+----+-------+-----+---------+------------------+------------------+-----------------+--------------+\n",
      "|2021|      1|    1|224158.54|              NULL|              NULL|        623789.05|    2529852.12|\n",
      "|2021|      1|    2|192348.31|         224158.54|            -14.19|        623789.05|    2529852.12|\n",
      "|2021|      1|    3|207282.20|         192348.31|              7.76|        623789.05|    2529852.12|\n",
      "|2021|      2|    4|206592.82|         207282.20|             -0.33|        633400.48|    2529852.12|\n",
      "|2021|      2|    5|211764.86|         206592.82|              2.50|        633400.48|    2529852.12|\n",
      "|2021|      2|    6|215042.80|         211764.86|              1.55|        633400.48|    2529852.12|\n",
      "|2021|      3|    7|220496.51|         215042.80|              2.54|        652395.72|    2529852.12|\n",
      "|2021|      3|    8|221275.78|         220496.51|              0.35|        652395.72|    2529852.12|\n",
      "|2021|      3|    9|210623.43|         221275.78|             -4.81|        652395.72|    2529852.12|\n",
      "|2021|      4|   10|228743.32|         210623.43|              8.60|        620266.87|    2529852.12|\n",
      "|2021|      4|   11|200154.69|         228743.32|            -12.50|        620266.87|    2529852.12|\n",
      "|2021|      4|   12|191368.86|         200154.69|             -4.39|        620266.87|    2529852.12|\n",
      "+----+-------+-----+---------+------------------+------------------+-----------------+--------------+\n",
      "\n"
     ]
    }
   ],
   "source": [
    "monthly_base = (\n",
    "    time_sales.groupBy(\"year\", \"month\")\n",
    "    .agg(F.sum(\"sale_total_price\").alias(\"revenue\"))\n",
    "    .orderBy(\"year\", \"month\")\n",
    ")\n",
    "\n",
    "comparison_df = monthly_base.withColumn(\n",
    "        \"prev_month_revenue\", \n",
    "        F.lag(\"revenue\").over(Window.orderBy(\"year\", \"month\"))\n",
    "    ).withColumn(\n",
    "        \"prev_year_revenue\", \n",
    "        F.lag(\"revenue\", 12).over(Window.orderBy(\"year\", \"month\"))\n",
    "    ).withColumn(\n",
    "        \"monthly_growth\", \n",
    "        (F.col(\"revenue\") - F.col(\"prev_month_revenue\")) / F.col(\"prev_month_revenue\")\n",
    "    ).withColumn(\n",
    "        \"yearly_growth\", \n",
    "        (F.col(\"revenue\") - F.col(\"prev_year_revenue\")) / F.col(\"prev_year_revenue\")\n",
    "    ).withColumn(\n",
    "        \"quarter\", \n",
    "        F.quarter(F.concat_ws(\"-\", F.col(\"year\"), F.lpad(F.col(\"month\"), 2, \"0\"), F.lit(\"01\")))\n",
    "    ).select(\n",
    "        \"year\",\n",
    "        \"quarter\",\n",
    "        \"month\",\n",
    "        \"revenue\",\n",
    "        \"prev_month_revenue\",\n",
    "        \"prev_year_revenue\",\n",
    "        F.round(F.col(\"monthly_growth\") * 100, 2).alias(\"monthly_growth_pct\"),\n",
    "        F.round(F.col(\"yearly_growth\") * 100, 2).alias(\"yearly_growth_pct\")\n",
    "    )\n",
    "\n",
    "quarterly_comparison = (\n",
    "    comparison_df.groupBy(\"year\", \"quarter\") \n",
    "    .agg(\n",
    "        F.sum(\"revenue\").alias(\"quarterly_revenue\")\n",
    "    )\n",
    ")\n",
    "\n",
    "yearly_comparison = (\n",
    "    comparison_df.groupBy(\"year\")\n",
    "    .agg(\n",
    "        F.sum(\"revenue\").alias(\"yearly_revenue\")\n",
    "    )\n",
    ")\n",
    "\n",
    "revenue_comparison = (\n",
    "    comparison_df\n",
    "    .join(quarterly_comparison, [\"year\", \"quarter\"], \"left\")\n",
    "    .join(yearly_comparison, [\"year\"], \"left\")\n",
    "    .select(\n",
    "        \"year\",\n",
    "        \"quarter\",\n",
    "        \"month\",\n",
    "        \"revenue\",\n",
    "        \"prev_month_revenue\",\n",
    "        \"monthly_growth_pct\",\n",
    "        \"quarterly_revenue\",\n",
    "        \"yearly_revenue\"\n",
    "    )\n",
    ")\n",
    "\n",
    "revenue_comparison.show()\n",
    "\n",
    "revenue_comparison.write \\\n",
    "    .format(\"jdbc\") \\\n",
    "    .option(\"url\", ch_url) \\\n",
    "    .option(\"user\", ch_properties[\"user\"]) \\\n",
    "    .option(\"password\", ch_properties[\"password\"]) \\\n",
    "    .option(\"driver\", \"com.clickhouse.jdbc.ClickHouseDriver\") \\\n",
    "    .option(\"dbtable\", \"revenue_comparison\") \\\n",
    "    .option(\"createTableOptions\", \"ENGINE = MergeTree ORDER BY (year, month)\") \\\n",
    "    .option(\"driver\", \"com.clickhouse.jdbc.ClickHouseDriver\") \\\n",
    "    .mode(\"overwrite\") \\\n",
    "    .save()"
   ]
  },
  {
   "cell_type": "markdown",
   "id": "cbb07d27-2ec9-4d49-9b01-7ad5a5008c12",
   "metadata": {},
   "source": [
    "Средний размер заказа по месяцам"
   ]
  },
  {
   "cell_type": "code",
   "execution_count": 80,
   "id": "3c58e07f-23c3-42c5-a2b1-d4cce5784f02",
   "metadata": {},
   "outputs": [
    {
     "name": "stdout",
     "output_type": "stream",
     "text": [
      "+----+-----+-------------------+\n",
      "|year|month|avg_items_per_order|\n",
      "+----+-----+-------------------+\n",
      "|2021|    1|  5.556064073226545|\n",
      "|2021|    2|   5.50744248985115|\n",
      "|2021|    3| 5.4104389086595495|\n",
      "|2021|    4| 5.4528076463560335|\n",
      "|2021|    5|  5.375603864734299|\n",
      "|2021|    6|  5.399026763990268|\n",
      "|2021|    7|  5.536130536130536|\n",
      "|2021|    8|   5.37123745819398|\n",
      "|2021|    9|  5.371871275327771|\n",
      "|2021|   10|   5.57847533632287|\n",
      "|2021|   11|  5.364544319600499|\n",
      "|2021|   12|   5.62987012987013|\n",
      "+----+-----+-------------------+\n",
      "\n"
     ]
    }
   ],
   "source": [
    "monthly_avg_order_size = (\n",
    "    time_sales.groupBy(\"year\", \"month\")\n",
    "    .agg(\n",
    "        (F.sum(\"sale_quantity\") / F.countDistinct(\"sale_id\")).alias(\"avg_items_per_order\")\n",
    "    )\n",
    "    .select(\"year\", \"month\", \"avg_items_per_order\")\n",
    "    .orderBy(\"year\", \"month\")\n",
    ")\n",
    "\n",
    "monthly_avg_order_size.show()\n",
    "\n",
    "monthly_avg_order_size.write \\\n",
    "    .format(\"jdbc\") \\\n",
    "    .option(\"url\", ch_url) \\\n",
    "    .option(\"user\", ch_properties[\"user\"]) \\\n",
    "    .option(\"password\", ch_properties[\"password\"]) \\\n",
    "    .option(\"driver\", \"com.clickhouse.jdbc.ClickHouseDriver\") \\\n",
    "    .option(\"dbtable\", \"monthly_avg_order_size\") \\\n",
    "    .option(\"createTableOptions\", \"ENGINE = MergeTree ORDER BY (year, month)\") \\\n",
    "    .option(\"driver\", \"com.clickhouse.jdbc.ClickHouseDriver\") \\\n",
    "    .mode(\"overwrite\") \\\n",
    "    .save()"
   ]
  },
  {
   "cell_type": "markdown",
   "id": "b612de2e-a133-4852-a85f-a99b3ac51259",
   "metadata": {},
   "source": [
    "### 4. Витрина продаж по магазинам"
   ]
  },
  {
   "cell_type": "markdown",
   "id": "01889077-ac67-4bb8-a28b-6fe94e06a11a",
   "metadata": {},
   "source": [
    "Основная витрина"
   ]
  },
  {
   "cell_type": "code",
   "execution_count": 81,
   "id": "66fb0044-efde-48ec-a221-bacac3d485be",
   "metadata": {},
   "outputs": [
    {
     "name": "stdout",
     "output_type": "stream",
     "text": [
      "+--------+------------+-----------+--------------+-------------+-----------+---------------+\n",
      "|store_id|  store_name|       city|       country|total_revenue|total_sales|avg_order_value|\n",
      "+--------+------------+-----------+--------------+-------------+-----------+---------------+\n",
      "|    8592|     Wikibox|      Klina|         China|       155.65|          1|     155.650000|\n",
      "|    2142|  Linkbridge|   Napnapan|      Portugal|        48.27|          1|      48.270000|\n",
      "|    3918|       Yadel|Yenangyaung|        Poland|       383.27|          1|     383.270000|\n",
      "|     496|        Vipe|  København|         China|       351.15|          1|     351.150000|\n",
      "|     471|     Wikibox|   Vermelha|    Bangladesh|       178.40|          1|     178.400000|\n",
      "|    6397|    Fivespan|     Sakura|       Finland|       208.87|          1|     208.870000|\n",
      "|    5156|   Wordpedia|     Wuyang|          Iran|        51.92|          1|      51.920000|\n",
      "|    5518|Thoughtworks|  Barrancas|         China|       327.86|          1|     327.860000|\n",
      "|    1591|     Edgeify|   Toulouse|       Armenia|       216.34|          1|     216.340000|\n",
      "|    6620|    Linktype|  Balauring|          Iran|       410.66|          1|     410.660000|\n",
      "|    7554|      Meezzy|  Shuiyuesi|     Indonesia|       307.14|          1|     307.140000|\n",
      "|     463|       Miboo|     Bochum|          Laos|       156.43|          1|     156.430000|\n",
      "|    1829|     Gabtype|    Pančevo|     Indonesia|       126.29|          1|     126.290000|\n",
      "|     148|      Rhynyx|  Ardazubre|     Indonesia|       435.60|          1|     435.600000|\n",
      "|    4101|    Centimia|     Szemud|       Belarus|       304.72|          1|     304.720000|\n",
      "|    3175|   Gigashots|     Uglich|Czech Republic|       469.16|          1|     469.160000|\n",
      "|    8389|     Tagfeed|   Paombong|     Indonesia|       371.48|          1|     371.480000|\n",
      "|    7340|       Avamm|    Wolbrom|          Cuba|       397.27|          1|     397.270000|\n",
      "|    1580|      Voolia|    Pereira|        Russia|       166.30|          1|     166.300000|\n",
      "|    1645|      Meevee|Tirlyanskiy|      Botswana|        32.16|          1|      32.160000|\n",
      "+--------+------------+-----------+--------------+-------------+-----------+---------------+\n",
      "only showing top 20 rows\n",
      "\n"
     ]
    }
   ],
   "source": [
    "store_sales = fact_sales.groupBy(\"store_id\").agg(\n",
    "    F.sum(\"sale_total_price\").alias(\"total_revenue\"),\n",
    "    F.count(\"sale_id\").alias(\"total_sales\"),\n",
    "    F.avg(\"sale_total_price\").alias(\"avg_order_value\")\n",
    ")\n",
    "\n",
    "store_mart = (\n",
    "    store_sales\n",
    "    .join(dim_store, \"store_id\")\n",
    "    .join(dim_city, \"city_id\")\n",
    "    .join(dim_country, \"country_id\")\n",
    "    .select(\n",
    "        \"store_id\",\n",
    "        dim_store[\"name\"].alias(\"store_name\"),\n",
    "        dim_city[\"city_name\"].alias(\"city\"),\n",
    "        dim_country[\"country_name\"].alias(\"country\"),\n",
    "        \"total_revenue\",\n",
    "        \"total_sales\",\n",
    "        \"avg_order_value\"\n",
    "    )\n",
    ")\n",
    "\n",
    "store_mart.show()\n",
    "\n",
    "store_mart.write \\\n",
    "    .format(\"jdbc\") \\\n",
    "    .option(\"url\", ch_url) \\\n",
    "    .option(\"user\", ch_properties[\"user\"]) \\\n",
    "    .option(\"password\", ch_properties[\"password\"]) \\\n",
    "    .option(\"driver\", \"com.clickhouse.jdbc.ClickHouseDriver\") \\\n",
    "    .option(\"dbtable\", \"store_sales_mart\") \\\n",
    "    .option(\"createTableOptions\", \"ENGINE = MergeTree ORDER BY (country, city)\") \\\n",
    "    .option(\"driver\", \"com.clickhouse.jdbc.ClickHouseDriver\") \\\n",
    "    .mode(\"overwrite\") \\\n",
    "    .save()"
   ]
  },
  {
   "cell_type": "markdown",
   "id": "ebf851e4-ea1f-45a3-afb9-d6d5546fba96",
   "metadata": {},
   "source": [
    "Топ-5 магазинов с наибольшей выручкой"
   ]
  },
  {
   "cell_type": "code",
   "execution_count": 82,
   "id": "1ac1c194-ad80-466d-8433-200237f83074",
   "metadata": {},
   "outputs": [
    {
     "name": "stdout",
     "output_type": "stream",
     "text": [
      "+------------+--------+-----------+---------+------------+-------------+\n",
      "|revenue_rank|store_id| store_name|     city|     country|total_revenue|\n",
      "+------------+--------+-----------+---------+------------+-------------+\n",
      "|           1|    7051|       DabZ|   Grekan|South Africa|       499.85|\n",
      "|           2|     241|Thoughtblab|    Fonte|      Poland|       499.80|\n",
      "|           3|    8577|     Camido|Longzhong|      Sweden|       499.76|\n",
      "|           4|    5926|   Edgeblab|    Pesek|   Indonesia|       499.76|\n",
      "|           5|    3270|    Centizu|   Tylicz|      Poland|       499.73|\n",
      "+------------+--------+-----------+---------+------------+-------------+\n",
      "\n"
     ]
    }
   ],
   "source": [
    "top_5_stores = (\n",
    "    store_mart\n",
    "    .withColumn(\"revenue_rank\", F.row_number().over(Window.orderBy(F.desc(\"total_revenue\"))))\n",
    "    .filter(F.col(\"revenue_rank\") <= 5)\n",
    "    .select(\"revenue_rank\", \"store_id\", \"store_name\", \"city\", \"country\", \"total_revenue\")\n",
    ")\n",
    "\n",
    "top_5_stores.show()\n",
    "\n",
    "top_5_stores.write \\\n",
    "    .format(\"jdbc\") \\\n",
    "    .option(\"url\", ch_url) \\\n",
    "    .option(\"user\", ch_properties[\"user\"]) \\\n",
    "    .option(\"password\", ch_properties[\"password\"]) \\\n",
    "    .option(\"driver\", \"com.clickhouse.jdbc.ClickHouseDriver\") \\\n",
    "    .option(\"dbtable\", \"top_5_stores\") \\\n",
    "    .option(\"createTableOptions\", \"ENGINE = MergeTree ORDER BY revenue_rank\") \\\n",
    "    .option(\"driver\", \"com.clickhouse.jdbc.ClickHouseDriver\") \\\n",
    "    .mode(\"overwrite\") \\\n",
    "    .save()"
   ]
  },
  {
   "cell_type": "markdown",
   "id": "d676484a-5584-4bbb-9acd-93e0697bb3be",
   "metadata": {},
   "source": [
    "Распределение продаж по городам и странам"
   ]
  },
  {
   "cell_type": "code",
   "execution_count": 83,
   "id": "940f1aae-9f13-4661-822d-954163832e16",
   "metadata": {},
   "outputs": [
    {
     "name": "stdout",
     "output_type": "stream",
     "text": [
      "+-----------+--------------------+------------+----------+-------------+---------+\n",
      "|    country|                city|city_revenue|city_sales|revenue_share|city_rank|\n",
      "+-----------+--------------------+------------+----------+-------------+---------+\n",
      "|Afghanistan|             Talanga|      496.68|         1|     0.000196|      134|\n",
      "|Afghanistan|            Borūjerd|      492.22|         1|     0.000195|      214|\n",
      "|Afghanistan|              Daugai|      485.66|         1|     0.000192|      325|\n",
      "|Afghanistan|           Asheville|      466.53|         1|     0.000184|      665|\n",
      "|Afghanistan|              Souflí|      461.80|         1|     0.000183|      755|\n",
      "|Afghanistan|      Saint-Constant|      459.56|         1|     0.000182|      792|\n",
      "|Afghanistan|       Calzada Larga|      457.36|         1|     0.000181|      825|\n",
      "|Afghanistan|            Longxing|      450.38|         1|     0.000178|      941|\n",
      "|Afghanistan|Presidente Venceslau|      429.44|         1|     0.000170|     1341|\n",
      "|Afghanistan|             Shuitou|      428.06|         1|     0.000169|     1365|\n",
      "|Afghanistan|            Zhangtan|      420.91|         1|     0.000166|     1506|\n",
      "|Afghanistan|            Jiangchi|      420.43|         1|     0.000166|     1517|\n",
      "|Afghanistan|              Åstorp|      411.23|         1|     0.000163|     1684|\n",
      "|Afghanistan|              Yuzhai|      407.00|         1|     0.000161|     1745|\n",
      "|Afghanistan|               Krujë|      402.83|         1|     0.000159|     1814|\n",
      "|Afghanistan|         Huangnaihai|      399.70|         1|     0.000158|     1866|\n",
      "|Afghanistan|       Sumberngerjat|      389.26|         1|     0.000154|     2066|\n",
      "|Afghanistan|             Gjinkar|      387.76|         1|     0.000153|     2089|\n",
      "|Afghanistan|       Golema Rečica|      385.67|         1|     0.000152|     2133|\n",
      "|Afghanistan|               Asker|      375.17|         1|     0.000148|     2304|\n",
      "+-----------+--------------------+------------+----------+-------------+---------+\n",
      "only showing top 20 rows\n",
      "\n"
     ]
    }
   ],
   "source": [
    "distribution = (\n",
    "    store_mart\n",
    "    .groupBy(\"country\", \"city\")\n",
    "    .agg(\n",
    "        F.sum(\"total_revenue\").alias(\"city_revenue\"),\n",
    "        F.sum(\"total_sales\").alias(\"city_sales\")\n",
    "    )\n",
    "    .withColumn(\n",
    "        \"revenue_share\", \n",
    "        (F.col(\"city_revenue\") / F.sum(\"city_revenue\").over(Window.partitionBy()))\n",
    "    )\n",
    "    .withColumn(\n",
    "        \"city_rank\", \n",
    "        F.dense_rank().over(Window.orderBy(F.desc(\"city_revenue\")))\n",
    "    )\n",
    "    .select(\n",
    "        \"country\",\n",
    "        \"city\",\n",
    "        \"city_revenue\",\n",
    "        \"city_sales\",\n",
    "        \"revenue_share\",\n",
    "        \"city_rank\"\n",
    "    )\n",
    "    .orderBy(\"country\", F.desc(\"city_revenue\"))\n",
    ")\n",
    "\n",
    "distribution.show()\n",
    "\n",
    "distribution.write \\\n",
    "    .format(\"jdbc\") \\\n",
    "    .option(\"url\", ch_url) \\\n",
    "    .option(\"user\", ch_properties[\"user\"]) \\\n",
    "    .option(\"password\", ch_properties[\"password\"]) \\\n",
    "    .option(\"driver\", \"com.clickhouse.jdbc.ClickHouseDriver\") \\\n",
    "    .option(\"dbtable\", \"distribution\") \\\n",
    "    .option(\"createTableOptions\", \"ENGINE = MergeTree ORDER BY (country, city_rank)\") \\\n",
    "    .option(\"driver\", \"com.clickhouse.jdbc.ClickHouseDriver\") \\\n",
    "    .mode(\"overwrite\") \\\n",
    "    .save()"
   ]
  },
  {
   "cell_type": "markdown",
   "id": "8459726f-9c48-49a4-bfae-8dbfe787e98f",
   "metadata": {},
   "source": [
    "Средний чек для каждого магазина"
   ]
  },
  {
   "cell_type": "markdown",
   "id": "e3417675-aa94-4ab4-bdab-77ccb25a49f7",
   "metadata": {},
   "source": [
    "### 5. Витрина продаж по поставщикам"
   ]
  },
  {
   "cell_type": "markdown",
   "id": "bdb2a0cc-60d6-46e3-8f3d-b92a4a7d9598",
   "metadata": {},
   "source": [
    "Основная витрина"
   ]
  },
  {
   "cell_type": "code",
   "execution_count": 84,
   "id": "056e1470-8aa7-4fd2-b56d-08fd7bad73fa",
   "metadata": {},
   "outputs": [
    {
     "name": "stdout",
     "output_type": "stream",
     "text": [
      "+-----------+-------------+--------------+-------------+--------------+-----------+--------------------+\n",
      "|supplier_id|supplier_name|       country|total_revenue|total_quantity|total_sales|   avg_product_price|\n",
      "+-----------+-------------+--------------+-------------+--------------+-----------+--------------------+\n",
      "|       1342|       Meezzy|       Ireland|       365.15|             9|          1| 40.5722222222222222|\n",
      "|       3749|      Dabfeed|         China|       254.16|             4|          1| 63.5400000000000000|\n",
      "|       4900|         Katz|       Ukraine|       316.15|             2|          1|158.0750000000000000|\n",
      "|       2866|        Npath|         China|       186.31|             4|          1| 46.5775000000000000|\n",
      "|       1238|        Eidel|         Syria|       422.94|             7|          1| 60.4200000000000000|\n",
      "|       5803|     Dabshots|       Finland|       432.57|            10|          1| 43.2570000000000000|\n",
      "|       3794|       Divape|        France|        33.74|             1|          1| 33.7400000000000000|\n",
      "|       1645|       Skidoo|     Indonesia|       221.07|             6|          1| 36.8450000000000000|\n",
      "|       7554|Thoughtbridge|     Indonesia|       149.09|             9|          1| 16.5655555555555556|\n",
      "|       1591|       Skivee|     Indonesia|       405.80|             6|          1| 67.6333333333333333|\n",
      "|       6397|    Topicware|     Indonesia|        28.00|             8|          1|  3.5000000000000000|\n",
      "|       4818|      Jaxbean|        Mexico|       371.49|             5|          1| 74.2980000000000000|\n",
      "|       8592|        Zooxo|       Tokelau|       425.99|             4|          1|106.4975000000000000|\n",
      "|       7982|        Einti|    Kazakhstan|        55.82|             4|          1| 13.9550000000000000|\n",
      "|       2366|      Meembee|        Greece|       229.77|            10|          1| 22.9770000000000000|\n",
      "|       2122|     Skiptube|         Japan|        12.54|             5|          1|  2.5080000000000000|\n",
      "|       7240|   Babbleblab|       Albania|       281.64|             9|          1| 31.2933333333333333|\n",
      "|        463|     Realfire|Czech Republic|       374.15|             5|          1| 74.8300000000000000|\n",
      "|       9465|        Eadel|        Guyana|       244.50|            10|          1| 24.4500000000000000|\n",
      "|       3175|     Topdrive|        Poland|       202.40|             4|          1| 50.6000000000000000|\n",
      "+-----------+-------------+--------------+-------------+--------------+-----------+--------------------+\n",
      "only showing top 20 rows\n",
      "\n"
     ]
    }
   ],
   "source": [
    "supplier_products = dim_product.select(\"product_id\", \"supplier_id\")\n",
    "\n",
    "supplier_sales = (\n",
    "    fact_sales\n",
    "    .join(supplier_products, \"product_id\")\n",
    "    .groupBy(\"supplier_id\")\n",
    "    .agg(\n",
    "        F.sum(\"sale_total_price\").alias(\"total_revenue\"),\n",
    "        F.sum(\"sale_quantity\").alias(\"total_quantity\"),\n",
    "        F.count(\"sale_id\").alias(\"total_sales\")\n",
    "    )\n",
    ")\n",
    "\n",
    "supplier_mart = (\n",
    "    supplier_sales\n",
    "    .join(dim_supplier, \"supplier_id\")\n",
    "    .join(dim_country, \"country_id\")\n",
    "    .select(\n",
    "        \"supplier_id\",\n",
    "        dim_supplier[\"name\"].alias(\"supplier_name\"),\n",
    "        dim_country[\"country_name\"].alias(\"country\"),\n",
    "        \"total_revenue\",\n",
    "        \"total_quantity\",\n",
    "        \"total_sales\",\n",
    "        (F.col(\"total_revenue\") / F.col(\"total_quantity\")).alias(\"avg_product_price\")\n",
    "    )\n",
    ")\n",
    "\n",
    "supplier_mart.show()\n",
    "\n",
    "supplier_mart.write \\\n",
    "    .format(\"jdbc\") \\\n",
    "    .option(\"url\", ch_url) \\\n",
    "    .option(\"user\", ch_properties[\"user\"]) \\\n",
    "    .option(\"password\", ch_properties[\"password\"]) \\\n",
    "    .option(\"driver\", \"com.clickhouse.jdbc.ClickHouseDriver\") \\\n",
    "    .option(\"dbtable\", \"supplier_sales_mart\") \\\n",
    "    .option(\"createTableOptions\", \"ENGINE = MergeTree ORDER BY country\") \\\n",
    "    .option(\"driver\", \"com.clickhouse.jdbc.ClickHouseDriver\") \\\n",
    "    .mode(\"overwrite\") \\\n",
    "    .save()"
   ]
  },
  {
   "cell_type": "markdown",
   "id": "59aab451-e59a-46a5-ac3f-aa22d45b2ad8",
   "metadata": {},
   "source": [
    "Топ-5 поставщиков с наибольшей выручкой"
   ]
  },
  {
   "cell_type": "code",
   "execution_count": 85,
   "id": "7efda1ec-3d66-49ed-93da-175343ca0195",
   "metadata": {},
   "outputs": [
    {
     "name": "stdout",
     "output_type": "stream",
     "text": [
      "+------------+-----------+-------------+---------+-------------+\n",
      "|revenue_rank|supplier_id|supplier_name|  country|total_revenue|\n",
      "+------------+-----------+-------------+---------+-------------+\n",
      "|           1|       9904|   Brainverse|  Ireland|       499.85|\n",
      "|           2|       8835|        Jamia|   Russia|       499.80|\n",
      "|           3|       2269|        Eabox| Portugal|       499.76|\n",
      "|           4|       5955|      Demimbu|    China|       499.76|\n",
      "|           5|       5501|   Browsezoom|Argentina|       499.73|\n",
      "+------------+-----------+-------------+---------+-------------+\n",
      "\n"
     ]
    }
   ],
   "source": [
    "top_5_suppliers = (\n",
    "    supplier_mart\n",
    "    .withColumn(\"revenue_rank\", F.row_number().over(Window.orderBy(F.desc(\"total_revenue\"))))\n",
    "    .filter(F.col(\"revenue_rank\") <= 5)\n",
    "    .select(\"revenue_rank\", \"supplier_id\", \"supplier_name\", \"country\", \"total_revenue\")\n",
    ")\n",
    "\n",
    "top_5_suppliers.show()\n",
    "\n",
    "top_5_suppliers.write \\\n",
    "    .format(\"jdbc\") \\\n",
    "    .option(\"url\", ch_url) \\\n",
    "    .option(\"user\", ch_properties[\"user\"]) \\\n",
    "    .option(\"password\", ch_properties[\"password\"]) \\\n",
    "    .option(\"driver\", \"com.clickhouse.jdbc.ClickHouseDriver\") \\\n",
    "    .option(\"dbtable\", \"top_5_suppliers\") \\\n",
    "    .option(\"createTableOptions\", \"ENGINE = MergeTree ORDER BY revenue_rank\") \\\n",
    "    .option(\"driver\", \"com.clickhouse.jdbc.ClickHouseDriver\") \\\n",
    "    .mode(\"overwrite\") \\\n",
    "    .save()"
   ]
  },
  {
   "cell_type": "markdown",
   "id": "54df8ada-ac51-4345-8e5f-7a6df6f36bb2",
   "metadata": {},
   "source": [
    "Средняя цена товаров от каждого поставщика"
   ]
  },
  {
   "cell_type": "code",
   "execution_count": 86,
   "id": "5f2b9db1-79a4-477a-8882-d0a4613d537e",
   "metadata": {},
   "outputs": [
    {
     "name": "stdout",
     "output_type": "stream",
     "text": [
      "+-----------+-------------+--------------------+--------------------+--------------+-------------+----------+\n",
      "|supplier_id|supplier_name|             country|   avg_product_price|total_quantity|total_revenue|price_rank|\n",
      "+-----------+-------------+--------------------+--------------------+--------------+-------------+----------+\n",
      "|       8124|        Skajo|              Canada|499.2900000000000000|             1|       499.29|         1|\n",
      "|       7066|     Wordtune|               China|498.7700000000000000|             1|       498.77|         2|\n",
      "|       6139|       Agimba|              Russia|498.6500000000000000|             1|       498.65|         3|\n",
      "|       1230|      Dabfeed|             Nigeria|498.6100000000000000|             1|       498.61|         4|\n",
      "|       9699|     Feedfish|               China|498.5000000000000000|             1|       498.50|         5|\n",
      "|       2797|   Zoomlounge|         Philippines|497.8000000000000000|             1|       497.80|         6|\n",
      "|       3629|        Meetz|        South Africa|497.4700000000000000|             1|       497.47|         7|\n",
      "|       9554|     Centidel|              Greece|496.9900000000000000|             1|       496.99|         8|\n",
      "|       1265|        Twimm|              France|495.6800000000000000|             1|       495.68|         9|\n",
      "|       8321|       Twinte|               China|495.0900000000000000|             1|       495.09|        10|\n",
      "|        720|   Browsezoom|              Brazil|494.6800000000000000|             1|       494.68|        11|\n",
      "|       7651|       Leenti|           Indonesia|494.2000000000000000|             1|       494.20|        12|\n",
      "|       5205|     Zoombeat|              Poland|493.4800000000000000|             1|       493.48|        13|\n",
      "|       1900|        Meejo|              Israel|492.2900000000000000|             1|       492.29|        14|\n",
      "|       8107|       Wikivu|Palestinian Terri...|491.8500000000000000|             1|       491.85|        15|\n",
      "|       7274|   Jabbertype|            Colombia|491.0300000000000000|             1|       491.03|        16|\n",
      "|       7165|    Browsecat|      Czech Republic|490.2000000000000000|             1|       490.20|        17|\n",
      "|       8986|        Yamia|             Senegal|489.7200000000000000|             1|       489.72|        18|\n",
      "|       6819|       Podcat|               China|488.6700000000000000|             1|       488.67|        19|\n",
      "|       6319|        Mynte|              France|488.2900000000000000|             1|       488.29|        20|\n",
      "+-----------+-------------+--------------------+--------------------+--------------+-------------+----------+\n",
      "only showing top 20 rows\n",
      "\n"
     ]
    }
   ],
   "source": [
    "supplier_avg_price = (\n",
    "    supplier_mart\n",
    "    .select(\n",
    "        \"supplier_id\",\n",
    "        \"supplier_name\",\n",
    "        \"country\",\n",
    "        \"avg_product_price\",\n",
    "        \"total_quantity\",\n",
    "        \"total_revenue\"\n",
    "    )\n",
    "    .withColumn(\n",
    "        \"price_rank\", \n",
    "        F.dense_rank().over(Window.orderBy(F.desc(\"avg_product_price\")))\n",
    "    )\n",
    ")\n",
    "\n",
    "supplier_avg_price.show()\n",
    "\n",
    "supplier_avg_price.write \\\n",
    "    .format(\"jdbc\") \\\n",
    "    .option(\"url\", ch_url) \\\n",
    "    .option(\"user\", ch_properties[\"user\"]) \\\n",
    "    .option(\"password\", ch_properties[\"password\"]) \\\n",
    "    .option(\"driver\", \"com.clickhouse.jdbc.ClickHouseDriver\") \\\n",
    "    .option(\"dbtable\", \"supplier_avg_product_price\") \\\n",
    "    .option(\"createTableOptions\", \"ENGINE = MergeTree ORDER BY price_rank\") \\\n",
    "    .option(\"driver\", \"com.clickhouse.jdbc.ClickHouseDriver\") \\\n",
    "    .mode(\"overwrite\") \\\n",
    "    .save()"
   ]
  },
  {
   "cell_type": "markdown",
   "id": "d1a7f73d-9f33-4581-9721-e544fb25f5f8",
   "metadata": {},
   "source": [
    "Распределение продаж по странам поставщиков"
   ]
  },
  {
   "cell_type": "code",
   "execution_count": 87,
   "id": "2acba01a-a878-4188-baab-4934d9a11f64",
   "metadata": {},
   "outputs": [
    {
     "name": "stdout",
     "output_type": "stream",
     "text": [
      "+--------------+---------------+----------------+\n",
      "|       country|country_revenue|country_quantity|\n",
      "+--------------+---------------+----------------+\n",
      "|         China|      492823.31|           10460|\n",
      "|     Indonesia|      265717.99|            5885|\n",
      "|        Russia|      149206.75|            3218|\n",
      "|   Philippines|      136135.10|            2955|\n",
      "|        Brazil|       97546.82|            2080|\n",
      "|        Poland|       87370.64|            1797|\n",
      "|      Portugal|       83210.60|            1955|\n",
      "|        France|       80432.46|            1635|\n",
      "| United States|       52560.14|            1154|\n",
      "|        Sweden|       52074.94|            1155|\n",
      "|Czech Republic|       45258.81|             956|\n",
      "|       Ukraine|       42858.17|             883|\n",
      "|      Thailand|       42409.05|             868|\n",
      "|         Japan|       42075.85|             909|\n",
      "|      Colombia|       39525.61|             885|\n",
      "|          Peru|       37351.86|             815|\n",
      "|     Argentina|       35606.32|             691|\n",
      "|        Greece|       33146.62|             705|\n",
      "|        Canada|       30290.58|             592|\n",
      "|       Nigeria|       24725.21|             491|\n",
      "+--------------+---------------+----------------+\n",
      "only showing top 20 rows\n",
      "\n"
     ]
    }
   ],
   "source": [
    "supplier_country_distribution = (\n",
    "    supplier_mart\n",
    "    .groupBy(\"country\")\n",
    "    .agg(\n",
    "        F.sum(\"total_revenue\").alias(\"country_revenue\"),\n",
    "        F.sum(\"total_quantity\").alias(\"country_quantity\")\n",
    "    )\n",
    "    .orderBy(F.desc(\"country_revenue\"))\n",
    ")\n",
    "\n",
    "supplier_country_distribution.show()\n",
    "\n",
    "supplier_country_distribution.write \\\n",
    "    .format(\"jdbc\") \\\n",
    "    .option(\"url\", ch_url) \\\n",
    "    .option(\"user\", ch_properties[\"user\"]) \\\n",
    "    .option(\"password\", ch_properties[\"password\"]) \\\n",
    "    .option(\"driver\", \"com.clickhouse.jdbc.ClickHouseDriver\") \\\n",
    "    .option(\"dbtable\", \"supplier_country_distribution\") \\\n",
    "    .option(\"createTableOptions\", \"ENGINE = MergeTree ORDER BY country_revenue\") \\\n",
    "    .option(\"driver\", \"com.clickhouse.jdbc.ClickHouseDriver\") \\\n",
    "    .mode(\"overwrite\") \\\n",
    "    .save()"
   ]
  },
  {
   "cell_type": "markdown",
   "id": "3431a7ec-1a34-46ae-80b9-48b27a9ee594",
   "metadata": {},
   "source": [
    "### 6. Витрина качества продукции"
   ]
  },
  {
   "cell_type": "markdown",
   "id": "73385de8-097b-423f-b156-7a23433f8baa",
   "metadata": {},
   "source": [
    "Продукты с наивысшим и наименьшим рейтингом"
   ]
  },
  {
   "cell_type": "code",
   "execution_count": 88,
   "id": "164df91a-bb50-4858-a9e4-2f899d32ab1e",
   "metadata": {},
   "outputs": [
    {
     "name": "stdout",
     "output_type": "stream",
     "text": [
      "+----------+------------+------+-------+\n",
      "|product_id|product_name|rating|reviews|\n",
      "+----------+------------+------+-------+\n",
      "|      8506|   Bird Cage|  5.00|    899|\n",
      "|      6801|    Dog Food|  5.00|    315|\n",
      "|      3191|   Bird Cage|  5.00|      6|\n",
      "|       183|   Bird Cage|  5.00|    220|\n",
      "|      9986|   Bird Cage|  5.00|    227|\n",
      "|      7249|   Bird Cage|  5.00|    524|\n",
      "|      9525|   Bird Cage|  5.00|      8|\n",
      "|      2067|   Bird Cage|  5.00|    488|\n",
      "|      2558|   Bird Cage|  5.00|    276|\n",
      "|      3087|    Dog Food|  5.00|    821|\n",
      "+----------+------------+------+-------+\n",
      "\n"
     ]
    }
   ],
   "source": [
    "rated_products = (\n",
    "    product_mart\n",
    "    .filter(F.col(\"rating\").isNotNull())\n",
    "    .orderBy(F.desc(\"rating\"))\n",
    "    .limit(10)\n",
    "    .select(\"product_id\", \"product_name\", \"rating\", \"reviews\")\n",
    ")\n",
    "\n",
    "rated_products.show()\n",
    "\n",
    "rated_products.write \\\n",
    "    .format(\"jdbc\") \\\n",
    "    .option(\"url\", ch_url) \\\n",
    "    .option(\"user\", ch_properties[\"user\"]) \\\n",
    "    .option(\"password\", ch_properties[\"password\"]) \\\n",
    "    .option(\"driver\", \"com.clickhouse.jdbc.ClickHouseDriver\") \\\n",
    "    .option(\"dbtable\", \"rated_products\") \\\n",
    "    .option(\"createTableOptions\", \"ENGINE = MergeTree ORDER BY rating\") \\\n",
    "    .option(\"driver\", \"com.clickhouse.jdbc.ClickHouseDriver\") \\\n",
    "    .mode(\"overwrite\") \\\n",
    "    .save()"
   ]
  },
  {
   "cell_type": "markdown",
   "id": "ca0f23eb-9413-4b1c-9843-1aa8e0437a76",
   "metadata": {},
   "source": [
    "Корреляция между рейтингом и объемом продаж"
   ]
  },
  {
   "cell_type": "code",
   "execution_count": 89,
   "id": "d07d2bab-121c-4bf5-9a22-2c6d9dd3d8c1",
   "metadata": {},
   "outputs": [
    {
     "name": "stdout",
     "output_type": "stream",
     "text": [
      "+------------------------+--------------------------+\n",
      "|rating_sales_correlation|rating_revenue_correlation|\n",
      "+------------------------+--------------------------+\n",
      "|    0.001004977801145...|      0.004314699051728...|\n",
      "+------------------------+--------------------------+\n",
      "\n"
     ]
    }
   ],
   "source": [
    "rating_correlation = (\n",
    "    product_mart\n",
    "    .filter(F.col(\"rating\").isNotNull())\n",
    "    .select(\n",
    "        F.corr(\"rating\", \"total_sales\").alias(\"rating_sales_correlation\"),\n",
    "        F.corr(\"rating\", \"total_revenue\").alias(\"rating_revenue_correlation\")\n",
    "    )\n",
    ")\n",
    "\n",
    "rating_correlation.show()\n",
    "\n",
    "rating_correlation.write \\\n",
    "    .format(\"jdbc\") \\\n",
    "    .option(\"url\", ch_url) \\\n",
    "    .option(\"user\", ch_properties[\"user\"]) \\\n",
    "    .option(\"password\", ch_properties[\"password\"]) \\\n",
    "    .option(\"driver\", \"com.clickhouse.jdbc.ClickHouseDriver\") \\\n",
    "    .option(\"dbtable\", \"rating_sales_correlation\") \\\n",
    "    .option(\"createTableOptions\", \"ENGINE = MergeTree ORDER BY rating_sales_correlation\") \\\n",
    "    .option(\"driver\", \"com.clickhouse.jdbc.ClickHouseDriver\") \\\n",
    "    .mode(\"overwrite\") \\\n",
    "    .save()"
   ]
  },
  {
   "cell_type": "code",
   "execution_count": 90,
   "id": "b0db4413-52c7-4782-8385-4ff6249b9209",
   "metadata": {},
   "outputs": [
    {
     "name": "stdout",
     "output_type": "stream",
     "text": [
      "+-------------+--------------+----------------+-------------+---------------------+--------------------+-----------------------+----------------+\n",
      "|rating_bucket|products_count|total_units_sold|total_revenue|avg_units_per_product|avg_rating_in_bucket|avg_reviews_per_product|revenue_per_unit|\n",
      "+-------------+--------------+----------------+-------------+---------------------+--------------------+-----------------------+----------------+\n",
      "|     1.0-1.49|          1101|            5967|    274668.80|    5.419618528610354|            1.223615|      505.2388737511353|       46.031306|\n",
      "|     1.5-2.49|          2535|           13985|    645796.85|    5.516765285996056|            1.952465|     506.89664694280077|       46.177823|\n",
      "|     2.5-3.49|          2476|           13388|    625932.93|    5.407108239095315|            2.950485|     491.60581583198706|       46.753281|\n",
      "|     3.5-4.49|          2421|           13194|    616523.82|    5.449814126394052|            3.945064|      503.1986782321355|       46.727590|\n",
      "|      4.5-5.0|          1467|            8089|    366929.72|    5.513974096796183|            4.724744|     501.14792092706205|       45.361568|\n",
      "+-------------+--------------+----------------+-------------+---------------------+--------------------+-----------------------+----------------+\n",
      "\n"
     ]
    }
   ],
   "source": [
    "rating_analysis = (\n",
    "    product_mart\n",
    "    .filter(F.col(\"rating\").isNotNull())\n",
    "    .withColumn(\"rating_bucket\", \n",
    "                F.when(F.col(\"rating\") < 1.5, \"1.0-1.49\")\n",
    "                 .when((F.col(\"rating\") >= 1.5) & (F.col(\"rating\") < 2.5), \"1.5-2.49\")\n",
    "                 .when((F.col(\"rating\") >= 2.5) & (F.col(\"rating\") < 3.5), \"2.5-3.49\")\n",
    "                 .when((F.col(\"rating\") >= 3.5) & (F.col(\"rating\") < 4.5), \"3.5-4.49\")\n",
    "                 .otherwise(\"4.5-5.0\"))\n",
    "    .groupBy(\"rating_bucket\")\n",
    "    .agg(\n",
    "        F.count(\"product_id\").alias(\"products_count\"),\n",
    "        F.sum(\"total_sales\").alias(\"total_units_sold\"),\n",
    "        F.sum(\"total_revenue\").alias(\"total_revenue\"),\n",
    "        F.avg(\"total_sales\").alias(\"avg_units_per_product\"),\n",
    "        F.avg(\"rating\").alias(\"avg_rating_in_bucket\"),\n",
    "        F.avg(\"reviews\").alias(\"avg_reviews_per_product\")\n",
    "    )\n",
    "    .withColumn(\"revenue_per_unit\", F.col(\"total_revenue\") / F.col(\"total_units_sold\"))\n",
    "    .orderBy(\"rating_bucket\")\n",
    ")\n",
    "\n",
    "rating_analysis.show()\n",
    "\n",
    "rating_analysis.write \\\n",
    "    .format(\"jdbc\") \\\n",
    "    .option(\"url\", ch_url) \\\n",
    "    .option(\"user\", ch_properties[\"user\"]) \\\n",
    "    .option(\"password\", ch_properties[\"password\"]) \\\n",
    "    .option(\"driver\", \"com.clickhouse.jdbc.ClickHouseDriver\") \\\n",
    "    .option(\"dbtable\", \"rating_sales_analysis\") \\\n",
    "    .option(\"createTableOptions\", \"ENGINE = MergeTree ORDER BY rating_bucket\") \\\n",
    "    .option(\"driver\", \"com.clickhouse.jdbc.ClickHouseDriver\") \\\n",
    "    .mode(\"overwrite\") \\\n",
    "    .save()"
   ]
  },
  {
   "cell_type": "markdown",
   "id": "bb6fabba-b526-42c4-8b26-8641c45f7eae",
   "metadata": {},
   "source": [
    "Продукты с наибольшим количеством отзывов"
   ]
  },
  {
   "cell_type": "code",
   "execution_count": 91,
   "id": "15ce86cc-0092-4e3a-b1b5-1267c947223e",
   "metadata": {},
   "outputs": [
    {
     "name": "stdout",
     "output_type": "stream",
     "text": [
      "+----------+------------+-------+\n",
      "|product_id|product_name|reviews|\n",
      "+----------+------------+-------+\n",
      "|      3098|     Cat Toy|   1000|\n",
      "|      2932|   Bird Cage|   1000|\n",
      "|      2358|   Bird Cage|   1000|\n",
      "|      4918|    Dog Food|   1000|\n",
      "|      5434|    Dog Food|   1000|\n",
      "|      5773|     Cat Toy|   1000|\n",
      "|      6873|   Bird Cage|   1000|\n",
      "|      5294|   Bird Cage|   1000|\n",
      "|       368|     Cat Toy|   1000|\n",
      "|      1062|     Cat Toy|   1000|\n",
      "+----------+------------+-------+\n",
      "\n"
     ]
    }
   ],
   "source": [
    "most_reviewed_products = (\n",
    "    product_mart\n",
    "    .orderBy(F.desc(\"reviews\"))\n",
    "    .limit(10)\n",
    "    .select(\"product_id\", \"product_name\", \"reviews\")\n",
    ")\n",
    "\n",
    "most_reviewed_products.show()\n",
    "\n",
    "most_reviewed_products.write \\\n",
    "    .format(\"jdbc\") \\\n",
    "    .option(\"url\", ch_url) \\\n",
    "    .option(\"user\", ch_properties[\"user\"]) \\\n",
    "    .option(\"password\", ch_properties[\"password\"]) \\\n",
    "    .option(\"driver\", \"com.clickhouse.jdbc.ClickHouseDriver\") \\\n",
    "    .option(\"dbtable\", \"most_reviewed_products\") \\\n",
    "    .option(\"createTableOptions\", \"ENGINE = MergeTree ORDER BY reviews\") \\\n",
    "    .option(\"driver\", \"com.clickhouse.jdbc.ClickHouseDriver\") \\\n",
    "    .mode(\"overwrite\") \\\n",
    "    .save()"
   ]
  }
 ],
 "metadata": {
  "kernelspec": {
   "display_name": "Python 3 (ipykernel)",
   "language": "python",
   "name": "python3"
  },
  "language_info": {
   "codemirror_mode": {
    "name": "ipython",
    "version": 3
   },
   "file_extension": ".py",
   "mimetype": "text/x-python",
   "name": "python",
   "nbconvert_exporter": "python",
   "pygments_lexer": "ipython3",
   "version": "3.11.6"
  }
 },
 "nbformat": 4,
 "nbformat_minor": 5
}
